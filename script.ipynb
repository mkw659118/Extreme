{
 "cells": [
  {
   "cell_type": "code",
   "id": "initial_id",
   "metadata": {
    "collapsed": true
   },
   "source": [
    "import numpy as np \n",
    "import pandas as pd\n",
    "df = pd.read_csv('./datasets/weather/weather.csv')\n",
    "df"
   ],
   "outputs": [],
   "execution_count": null
  },
  {
   "metadata": {},
   "cell_type": "code",
   "source": [
    "x, y = df.to_numpy()[:, 1:-1], df.to_numpy()[:, -1]\n",
    "from sklearn.preprocessing import MinMaxScaler\n",
    "x = MinMaxScaler().fit_transform(x)"
   ],
   "id": "c2fe0f552f515f92",
   "outputs": [],
   "execution_count": null
  },
  {
   "metadata": {},
   "cell_type": "code",
   "source": [
    "def create_window_dataset(data, target, window_size, forecast_size):\n",
    "    \"\"\"\n",
    "    将时间序列数据转换为窗口数据集\n",
    "    :param data: 特征数据（numpy数组）\n",
    "    :param target: 目标数据（numpy数组）\n",
    "    :param window_size: 输入窗口大小（历史时间步数）\n",
    "    :param forecast_size: 预测窗口大小（未来时间步数）\n",
    "    :return: 窗口化的特征数据和目标数据\n",
    "    \"\"\"\n",
    "    X, y = [], []\n",
    "    total_samples = len(data) - window_size - forecast_size + 1\n",
    "    \n",
    "    for i in range(total_samples):\n",
    "        # 获取当前窗口的特征数据\n",
    "        X_window = data[i:i+window_size]\n",
    "        # 获取对应的未来窗口目标数据\n",
    "        y_window = target[i+window_size : i+window_size+forecast_size]\n",
    "        \n",
    "        X.append(X_window)\n",
    "        y.append(y_window)\n",
    "    \n",
    "    return np.array(X), np.array(y)\n",
    "\n",
    "# 设置窗口参数（可根据需求调整）\n",
    "WINDOW_SIZE = 5    # 使用过去5个时间步\n",
    "FORECAST_SIZE = 3  # 预测未来3个时间步\n",
    "\n",
    "# 创建窗口数据集\n",
    "X_window, y_window = create_window_dataset(x, y, WINDOW_SIZE, FORECAST_SIZE)\n",
    "\n",
    "# 查看数据集形状\n",
    "print(\"特征数据形状:\", X_window.shape)  # (样本数, 窗口大小, 特征数)\n",
    "print(\"目标数据形状:\", y_window.shape) # (样本数, 预测窗口大小)"
   ],
   "id": "e567e6a168871086",
   "outputs": [],
   "execution_count": null
  },
  {
   "metadata": {},
   "cell_type": "code",
   "source": [
    "import torch\n",
    "x = torch.rand(10, 1)\n",
    "x = x.to(torch.device(\"mps\"))\n",
    "# Check if MPS is available\n",
    "print(torch.backends.mps.is_available())"
   ],
   "id": "7ce6345788f05012",
   "outputs": [],
   "execution_count": null
  },
  {
   "metadata": {},
   "cell_type": "code",
   "source": "torch.device(\"mps\")",
   "id": "355680b0cedafb71",
   "outputs": [],
   "execution_count": null
  },
  {
   "metadata": {},
   "cell_type": "code",
   "source": "torch.device(\"cpu\")",
   "id": "de394c51061335af",
   "outputs": [],
   "execution_count": null
  },
  {
   "metadata": {},
   "cell_type": "code",
   "source": "torch.device(\"cuda\")",
   "id": "278076e217fd0a2d",
   "outputs": [],
   "execution_count": null
  },
  {
   "metadata": {},
   "cell_type": "code",
   "source": "torch.device(\"cuda\")",
   "id": "a48883c13da3a990",
   "outputs": [],
   "execution_count": null
  },
  {
   "metadata": {},
   "cell_type": "code",
   "source": "",
   "id": "c01a6fe16cbca19c",
   "outputs": [],
   "execution_count": null
  }
 ],
 "metadata": {
  "kernelspec": {
   "display_name": "Python 3",
   "language": "python",
   "name": "python3"
  },
  "language_info": {
   "codemirror_mode": {
    "name": "ipython",
    "version": 2
   },
   "file_extension": ".py",
   "mimetype": "text/x-python",
   "name": "python",
   "nbconvert_exporter": "python",
   "pygments_lexer": "ipython2",
   "version": "2.7.6"
  }
 },
 "nbformat": 4,
 "nbformat_minor": 5
}
