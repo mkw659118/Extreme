{
 "cells": [
  {
   "metadata": {},
   "cell_type": "code",
   "outputs": [],
   "execution_count": null,
   "source": "",
   "id": "2f2595a6d5a52fb2"
  },
  {
   "metadata": {},
   "cell_type": "code",
   "outputs": [],
   "execution_count": null,
   "source": [
    "from modules.load_data.get_financial import get_data, generate_data\n",
    "\n",
    "try:\n",
    "    data = get_data(0)\n",
    "    # print(data)\n",
    "except Exception as e:\n",
    "    data = generate_data(start_date, end_date, 0)\n",
    "\n",
    "# print(data)\n",
    "x, y = data, data[:, -1].astype(np.float32)\n",
    "scaler = y[:int(len(x) * config.density)].astype(np.float32)\n",
    "y = (y - np.mean(scaler)) / np.std(scaler)\n",
    "# print(scaler.shape)\n",
    "x[:, -1] = x[:, -1].astype(np.float32)\n",
    "temp = x[:, -1].astype(np.float32)\n",
    "x[:, -1] = (temp - np.mean(scaler)) / np.std(scaler)\n",
    "x = x.astype(np.float32)\n",
    "y = y.astype(np.float32)\n",
    "X_window, y_window = create_window_dataset(x, y, config.seq_len, config.pred_len)\n",
    "\n"
   ],
   "id": "13b403a991ed9604"
  }
 ],
 "metadata": {
  "kernelspec": {
   "display_name": "Python 3",
   "language": "python",
   "name": "python3"
  },
  "language_info": {
   "codemirror_mode": {
    "name": "ipython",
    "version": 2
   },
   "file_extension": ".py",
   "mimetype": "text/x-python",
   "name": "python",
   "nbconvert_exporter": "python",
   "pygments_lexer": "ipython2",
   "version": "2.7.6"
  }
 },
 "nbformat": 4,
 "nbformat_minor": 5
}
