{
 "cells": [
  {
   "metadata": {},
   "cell_type": "code",
   "outputs": [],
   "execution_count": null,
   "source": [
    "from modules.load_data.get_financial import get_data, generate_data\n",
    "\n",
    "try:\n",
    "    data = get_data(0)\n",
    "    # print(data)\n",
    "except Exception as e:\n",
    "    data = generate_data(start_date, end_date, 0)\n",
    "\n",
    "# print(data)\n",
    "x, y = data, data[:, -1].astype(np.float32)\n",
    "scaler = y[:int(len(x) * config.density)].astype(np.float32)\n",
    "y = (y - np.mean(scaler)) / np.std(scaler)\n",
    "# print(scaler.shape)\n",
    "x[:, -1] = x[:, -1].astype(np.float32)\n",
    "temp = x[:, -1].astype(np.float32)\n",
    "x[:, -1] = (temp - np.mean(scaler)) / np.std(scaler)\n",
    "x = x.astype(np.float32)\n",
    "y = y.astype(np.float32)\n",
    "X_window, y_window = create_window_dataset(x, y, config.seq_len, config.pred_len)\n",
    "\n"
   ],
   "id": "13b403a991ed9604"
  },
  {
   "metadata": {
    "ExecuteTime": {
     "end_time": "2025-03-16T07:46:05.795182Z",
     "start_time": "2025-03-16T07:46:05.775693Z"
    }
   },
   "cell_type": "code",
   "source": [
    "import numpy as np\n",
    "import optuna\n",
    "\n",
    "# 计算 MAE\n",
    "def calculate_mae(y, y_hat):\n",
    "    return np.mean(np.abs(y - y_hat))\n",
    "\n",
    "# 训练并计算 MAE\n",
    "def train_and_evaluate(params):\n",
    "    size = 100\n",
    "    y = np.random.rand(size) * 10  # 真实值\n",
    "    y_hat = np.random.rand(size) * 10  # 预测值\n",
    "    mae = calculate_mae(y, y_hat)\n",
    "    return mae\n",
    "\n",
    "# **定义超参数搜索空间**\n",
    "search_space = {\n",
    "    'rank': [128],\n",
    "    'num_layers': [1, 2, 3, 4],\n",
    "    'dataset': ['weather'],\n",
    "    'att': ['mla', 'self', 'external', 'gqa', 'mqa'],\n",
    "    'norm': ['rms', 'layer', 'batch'],\n",
    "    'ffn': ['ffn', 'moe']\n",
    "}\n",
    "\n",
    "# **固定某些参数（如果需要）**\n",
    "fixed_params = {\n",
    "    'dataset': 'weather'  # 例如我们只优化其他参数，dataset 固定为 'weather'\n",
    "}\n",
    "\n",
    "# **使用 TPE 采样器**\n",
    "base_sampler = optuna.samplers.TPESampler()\n",
    "\n",
    "# **创建 PartialFixedSampler（固定部分参数）**\n",
    "sampler = optuna.samplers.PartialFixedSampler(fixed_params, base_sampler)\n",
    "\n",
    "def objective(trial):\n",
    "    # **动态生成超参数（非固定参数）**\n",
    "    params = {key: trial.suggest_categorical(key, values) for key, values in search_space.items() if key not in fixed_params}\n",
    "\n",
    "    # **添加固定参数**\n",
    "    params.update(fixed_params)\n",
    "\n",
    "    return train_and_evaluate(params)\n",
    "\n",
    "# **创建 study 并运行优化**\n",
    "study = optuna.create_study(direction=\"minimize\", sampler=sampler)\n",
    "study.optimize(objective, n_trials=15)  #\n",
    "\n",
    "# **输出结果**\n",
    "print(\"Best Parameters:\", study.best_params)\n",
    "print(\"Best MAE:\", study.best_value)"
   ],
   "id": "92366f7f25602f19",
   "outputs": [
    {
     "name": "stderr",
     "output_type": "stream",
     "text": [
      "/var/folders/x5/s_l7bmrn7wndpynfr_mrrdg40000gn/T/ipykernel_77843/2300174442.py:35: ExperimentalWarning: PartialFixedSampler is experimental (supported from v2.4.0). The interface can change in the future.\n",
      "  sampler = optuna.samplers.PartialFixedSampler(fixed_params, base_sampler)\n",
      "[I 2025-03-16 15:46:05,778] A new study created in memory with name: no-name-fe174e23-f5cd-4290-b4eb-77a6d83eea6b\n",
      "[I 2025-03-16 15:46:05,779] Trial 0 finished with value: 3.489385154427884 and parameters: {'rank': 128, 'num_layers': 3, 'att': 'mqa', 'norm': 'rms', 'ffn': 'moe'}. Best is trial 0 with value: 3.489385154427884.\n",
      "[I 2025-03-16 15:46:05,780] Trial 1 finished with value: 3.3493881203062417 and parameters: {'rank': 128, 'num_layers': 4, 'att': 'mla', 'norm': 'batch', 'ffn': 'ffn'}. Best is trial 1 with value: 3.3493881203062417.\n",
      "[I 2025-03-16 15:46:05,781] Trial 2 finished with value: 3.3236907552820054 and parameters: {'rank': 128, 'num_layers': 2, 'att': 'external', 'norm': 'rms', 'ffn': 'moe'}. Best is trial 2 with value: 3.3236907552820054.\n",
      "[I 2025-03-16 15:46:05,781] Trial 3 finished with value: 3.4077132969745954 and parameters: {'rank': 128, 'num_layers': 3, 'att': 'mqa', 'norm': 'rms', 'ffn': 'moe'}. Best is trial 2 with value: 3.3236907552820054.\n",
      "[I 2025-03-16 15:46:05,782] Trial 4 finished with value: 3.31604258843264 and parameters: {'rank': 128, 'num_layers': 3, 'att': 'mla', 'norm': 'layer', 'ffn': 'moe'}. Best is trial 4 with value: 3.31604258843264.\n",
      "[I 2025-03-16 15:46:05,782] Trial 5 finished with value: 3.348932056489121 and parameters: {'rank': 128, 'num_layers': 4, 'att': 'mqa', 'norm': 'rms', 'ffn': 'moe'}. Best is trial 4 with value: 3.31604258843264.\n",
      "[I 2025-03-16 15:46:05,783] Trial 6 finished with value: 3.12978457256469 and parameters: {'rank': 128, 'num_layers': 4, 'att': 'mqa', 'norm': 'rms', 'ffn': 'ffn'}. Best is trial 6 with value: 3.12978457256469.\n",
      "[I 2025-03-16 15:46:05,783] Trial 7 finished with value: 3.445056245939461 and parameters: {'rank': 128, 'num_layers': 4, 'att': 'mla', 'norm': 'rms', 'ffn': 'moe'}. Best is trial 6 with value: 3.12978457256469.\n",
      "[I 2025-03-16 15:46:05,784] Trial 8 finished with value: 3.4527060892251176 and parameters: {'rank': 128, 'num_layers': 1, 'att': 'mla', 'norm': 'rms', 'ffn': 'ffn'}. Best is trial 6 with value: 3.12978457256469.\n",
      "[I 2025-03-16 15:46:05,784] Trial 9 finished with value: 3.28778380412897 and parameters: {'rank': 128, 'num_layers': 3, 'att': 'self', 'norm': 'rms', 'ffn': 'ffn'}. Best is trial 6 with value: 3.12978457256469.\n",
      "[I 2025-03-16 15:46:05,787] Trial 10 finished with value: 2.912417094375815 and parameters: {'rank': 128, 'num_layers': 2, 'att': 'gqa', 'norm': 'layer', 'ffn': 'ffn'}. Best is trial 10 with value: 2.912417094375815.\n",
      "[I 2025-03-16 15:46:05,788] Trial 11 finished with value: 3.0610680412749254 and parameters: {'rank': 128, 'num_layers': 2, 'att': 'gqa', 'norm': 'layer', 'ffn': 'ffn'}. Best is trial 10 with value: 2.912417094375815.\n",
      "[I 2025-03-16 15:46:05,790] Trial 12 finished with value: 3.318374698009277 and parameters: {'rank': 128, 'num_layers': 2, 'att': 'gqa', 'norm': 'layer', 'ffn': 'ffn'}. Best is trial 10 with value: 2.912417094375815.\n",
      "[I 2025-03-16 15:46:05,792] Trial 13 finished with value: 3.4883134706699135 and parameters: {'rank': 128, 'num_layers': 2, 'att': 'gqa', 'norm': 'layer', 'ffn': 'ffn'}. Best is trial 10 with value: 2.912417094375815.\n",
      "[I 2025-03-16 15:46:05,793] Trial 14 finished with value: 3.375110316938142 and parameters: {'rank': 128, 'num_layers': 2, 'att': 'gqa', 'norm': 'layer', 'ffn': 'ffn'}. Best is trial 10 with value: 2.912417094375815.\n"
     ]
    },
    {
     "name": "stdout",
     "output_type": "stream",
     "text": [
      "Best Parameters: {'rank': 128, 'num_layers': 2, 'att': 'gqa', 'norm': 'layer', 'ffn': 'ffn'}\n",
      "Best MAE: 2.912417094375815\n"
     ]
    }
   ],
   "execution_count": 3
  },
  {
   "metadata": {},
   "cell_type": "code",
   "outputs": [],
   "execution_count": null,
   "source": "",
   "id": "31b9e76dc577672f"
  }
 ],
 "metadata": {
  "kernelspec": {
   "display_name": "Python 3",
   "language": "python",
   "name": "python3"
  },
  "language_info": {
   "codemirror_mode": {
    "name": "ipython",
    "version": 2
   },
   "file_extension": ".py",
   "mimetype": "text/x-python",
   "name": "python",
   "nbconvert_exporter": "python",
   "pygments_lexer": "ipython2",
   "version": "2.7.6"
  }
 },
 "nbformat": 4,
 "nbformat_minor": 5
}
