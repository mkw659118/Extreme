{
 "cells": [
  {
   "metadata": {
    "ExecuteTime": {
     "end_time": "2025-03-17T14:11:34.932605Z",
     "start_time": "2025-03-17T14:11:34.928763Z"
    }
   },
   "cell_type": "code",
   "source": [
    "\n",
    "import os \n",
    "len(os.listdir('./datasets/financial'))"
   ],
   "id": "13b403a991ed9604",
   "outputs": [
    {
     "data": {
      "text/plain": [
       "12019"
      ]
     },
     "execution_count": 2,
     "metadata": {},
     "output_type": "execute_result"
    }
   ],
   "execution_count": 2
  },
  {
   "metadata": {
    "ExecuteTime": {
     "end_time": "2025-03-17T02:26:52.784588Z",
     "start_time": "2025-03-17T02:26:52.765051Z"
    }
   },
   "cell_type": "code",
   "source": [
    "from sklearn.preprocessing import StandardScaler\n",
    "\n",
    "from model_train import Model, get_experiment_name\n",
    "from utils.utils import set_seed\n",
    "# Experiment Settings, logger, plotter\n",
    "from utils.exp_config import get_config\n",
    "config = get_config()\n",
    "from utils.exp_logger import Logger\n",
    "from utils.exp_metrics_plotter import MetricsPlotter\n",
    "from utils.utils import set_settings\n",
    "set_settings(config)\n",
    "log_filename = get_experiment_name(config)\n",
    "plotter = MetricsPlotter(log_filename, config)\n",
    "log = Logger(log_filename, plotter, config)\n",
    "# Set seed of this round\n",
    "set_seed(config.seed + 0)\n",
    "\n",
    "# Initialize the data and the model\n",
    "from data_center import DataModule"
   ],
   "id": "92366f7f25602f19",
   "outputs": [
    {
     "name": "stdout",
     "output_type": "stream",
     "text": [
      "Deleted './results/ours/20250317/log/10_25_43_Model_ours_Dataset_financial_R64.md' as it had less than 15 lines.\n",
      "\u001B[1;38;2;151;200;129m|2025-03-17 10:26:52| \u001B[0m\u001B[1m{\n",
      "     'ablation': 0, 'att_method': self, 'bs': 32, 'classification': False,\n",
      "     'continue_train': False, 'data_scaler': False, 'dataset': financial, 'debug': False,\n",
      "     'decay': 0.0001, 'density': 0.7, 'device': cpu, 'epochs': 200,\n",
      "     'eval_set': True, 'ffn_method': moe, 'hyper_search': False, 'idx': 0,\n",
      "     'log': <utils.exp_logger.Logger object at 0x34c84f560>, 'logger': None, 'loss_func': L1Loss, 'lr': 0.001,\n",
      "     'model': ours, 'multi_dataset': True, 'norm_method': rms, 'num_layers': 12,\n",
      "     'optim': AdamW, 'path': ./datasets/, 'patience': 50, 'pred_len': 96,\n",
      "     'rank': 64, 'record': True, 'retrain': True, 'rounds': 1,\n",
      "     'seed': 0, 'seq_len': 96, 'shuffle': False, 'train_size': 500,\n",
      "     'try_exp': 1, 'ts_var': 0, 'verbose': 10,\n",
      "}\u001B[0m\n"
     ]
    }
   ],
   "execution_count": 18
  },
  {
   "metadata": {
    "ExecuteTime": {
     "end_time": "2025-03-17T02:28:03.263511Z",
     "start_time": "2025-03-17T02:28:03.250187Z"
    }
   },
   "cell_type": "code",
   "source": [
    "from modules.load_data.get_financial import get_financial_data, get_data\n",
    "import numpy as np \n",
    "data = get_data(0)\n",
    "data.shape"
   ],
   "id": "eb98e87ed81517e2",
   "outputs": [
    {
     "data": {
      "text/plain": [
       "(755, 6)"
      ]
     },
     "execution_count": 27,
     "metadata": {},
     "output_type": "execute_result"
    }
   ],
   "execution_count": 27
  },
  {
   "metadata": {
    "ExecuteTime": {
     "end_time": "2025-03-17T02:26:50.975241Z",
     "start_time": "2025-03-17T02:26:50.974004Z"
    }
   },
   "cell_type": "code",
   "source": "",
   "id": "31b9e76dc577672f",
   "outputs": [],
   "execution_count": null
  },
  {
   "metadata": {
    "ExecuteTime": {
     "end_time": "2025-03-17T02:11:19.869298Z",
     "start_time": "2025-03-17T02:11:19.865938Z"
    }
   },
   "cell_type": "code",
   "source": "",
   "id": "2d10b8f8729aad3d",
   "outputs": [
    {
     "data": {
      "text/plain": [
       "(55230, 96, 6)"
      ]
     },
     "execution_count": 11,
     "metadata": {},
     "output_type": "execute_result"
    }
   ],
   "execution_count": 11
  },
  {
   "metadata": {
    "ExecuteTime": {
     "end_time": "2025-03-17T01:37:11.964660Z",
     "start_time": "2025-03-17T01:37:11.963174Z"
    }
   },
   "cell_type": "code",
   "source": "",
   "id": "9042099162bac830",
   "outputs": [],
   "execution_count": null
  }
 ],
 "metadata": {
  "kernelspec": {
   "display_name": "Python 3",
   "language": "python",
   "name": "python3"
  },
  "language_info": {
   "codemirror_mode": {
    "name": "ipython",
    "version": 2
   },
   "file_extension": ".py",
   "mimetype": "text/x-python",
   "name": "python",
   "nbconvert_exporter": "python",
   "pygments_lexer": "ipython2",
   "version": "2.7.6"
  }
 },
 "nbformat": 4,
 "nbformat_minor": 5
}
