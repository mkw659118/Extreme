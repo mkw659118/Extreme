{
 "cells": [
  {
   "cell_type": "code",
   "execution_count": 27,
   "id": "2a60cc1a85c1e81b",
   "metadata": {
    "ExecuteTime": {
     "end_time": "2025-06-14T14:43:30.488364Z",
     "start_time": "2025-06-14T14:43:30.231154Z"
    }
   },
   "outputs": [
    {
     "name": "stdout",
     "output_type": "stream",
     "text": [
      "70\n",
      "70\n",
      "70\n",
      "70\n",
      "70\n",
      "70\n",
      "70\n",
      "70\n",
      "70\n",
      "70\n",
      "70\n",
      "70\n",
      "54\n",
      "70\n",
      "70\n",
      "70\n",
      "70\n",
      "70\n",
      "70\n",
      "59\n",
      "70\n",
      "70\n",
      "70\n",
      "70\n",
      "70\n",
      "70\n",
      "70\n",
      "70\n",
      "70\n",
      "70\n",
      "70\n",
      "46\n",
      "70\n",
      "70\n",
      "70\n",
      "38\n",
      "70\n",
      "70\n",
      "64\n",
      "70\n",
      "70\n",
      "70\n",
      "70\n",
      "36\n",
      "70\n",
      "70\n",
      "70\n",
      "70\n",
      "70\n",
      "70\n",
      "70\n",
      "70\n",
      "70\n",
      "70\n",
      "38\n",
      "70\n",
      "70\n",
      "70\n",
      "70\n",
      "70\n",
      "70\n",
      "70\n",
      "70\n",
      "70\n",
      "70\n",
      "70\n",
      "70\n",
      "70\n",
      "70\n",
      "70\n",
      "70\n",
      "70\n",
      "70\n",
      "70\n",
      "70\n",
      "70\n",
      "37\n",
      "70\n",
      "70\n",
      "70\n",
      "70\n",
      "70\n",
      "41\n",
      "70\n",
      "70\n",
      "70\n",
      "70\n",
      "70\n",
      "70\n",
      "70\n",
      "70\n",
      "70\n",
      "70\n",
      "70\n",
      "58\n",
      "70\n",
      "70\n",
      "49\n",
      "70\n",
      "70\n",
      "70\n",
      "70\n",
      "70\n",
      "70\n",
      "70\n",
      "70\n",
      "51\n",
      "70\n",
      "70\n",
      "70\n",
      "58\n",
      "70\n",
      "70\n",
      "53\n",
      "70\n",
      "40\n",
      "70\n",
      "69\n",
      "70\n",
      "51\n",
      "70\n",
      "70\n",
      "70\n",
      "70\n",
      "70\n",
      "18\n",
      "0\n",
      "0\n",
      "0\n",
      "0\n",
      "0\n",
      "0\n",
      "0\n",
      "0\n",
      "0\n",
      "0\n",
      "0\n",
      "0\n",
      "0\n",
      "0\n",
      "0\n",
      "0\n",
      "0\n",
      "0\n",
      "0\n",
      "0\n",
      "0\n",
      "0\n",
      "0\n",
      "0\n",
      "0\n",
      "0\n",
      "0\n",
      "0\n",
      "0\n",
      "0\n",
      "0\n",
      "0\n",
      "0\n",
      "0\n",
      "0\n",
      "0\n",
      "0\n",
      "0\n",
      "0\n",
      "0\n",
      "0\n",
      "0\n",
      "0\n",
      "0\n",
      "0\n",
      "0\n",
      "0\n",
      "0\n",
      "0\n",
      "0\n",
      "0\n",
      "0\n",
      "0\n",
      "0\n",
      "0\n",
      "0\n",
      "0\n",
      "0\n",
      "0\n",
      "0\n",
      "0\n",
      "0\n",
      "0\n",
      "0\n",
      "0\n",
      "0\n",
      "0\n",
      "0\n",
      "0\n",
      "0\n",
      "0\n",
      "0\n",
      "0\n",
      "0\n"
     ]
    },
    {
     "data": {
      "text/plain": [
       "126"
      ]
     },
     "execution_count": 27,
     "metadata": {},
     "output_type": "execute_result"
    }
   ],
   "source": [
    "import pickle\n",
    "def get_group_idx(group_index):\n",
    "    # './results/func_code_to_label_{n_clusters}.pkl'\n",
    "    with open('./results/func_code_to_label_40_balanced.pkl', 'rb') as f:\n",
    "        data = pickle.load(f)\n",
    "    all_func_code = []\n",
    "    for i in range(len(data)):\n",
    "        if int(data[i][1]) == group_index:\n",
    "            all_func_code.append(data[i][0])\n",
    "    return all_func_code"
   ]
  },
  {
   "cell_type": "code",
   "execution_count": null,
   "id": "92366f7f25602f19",
   "metadata": {},
   "outputs": [],
   "source": [
    "import json\n",
    "\n",
    "from sqlalchemy import create_engine, text\n",
    "import pandas as pd\n",
    "\n",
    "# 数据库配置\n",
    "import pickle\n",
    "with open('./datasets/sql_token.pkl', 'rb') as f:\n",
    "    DB_URI = pickle.load(f)\n",
    "\n",
    "engine = create_engine(DB_URI)\n",
    "DATA_JSON_PATH = './datasets/data.json'\n",
    "\n",
    "# 加载分类数据\n",
    "with open(DATA_JSON_PATH) as f:\n",
    "    group_map = json.load(f)\n"
   ]
  },
  {
   "cell_type": "code",
   "execution_count": null,
   "id": "a297cfd7b575be0f",
   "metadata": {},
   "outputs": [],
   "source": [
    "for group_idx, (group_name, group_list) in enumerate(group_map.items()):\n",
    "    for group_data in group_list:\n",
    "        if group_name == 'stock1' and group_data['industry_code'] in ['270000', '480000']:\n",
    "            print(group_name, group_data, )\n",
    "        # break\n",
    "    # break"
   ]
  },
  {
   "cell_type": "code",
   "execution_count": null,
   "id": "eb98e87ed81517e2",
   "metadata": {},
   "outputs": [],
   "source": []
  },
  {
   "cell_type": "code",
   "execution_count": null,
   "id": "e54aded75946392",
   "metadata": {},
   "outputs": [],
   "source": [
    "df = {}\n",
    "for i in range(len(group_map['stock1'])):\n",
    "    if group_map['stock1'][i]['industry_code'] == '270000':\n",
    "        print(group_map['stock1'][i])\n",
    "        df['stock-270000'] = group_map['stock1'][i]['code_list']\n",
    "df"
   ]
  },
  {
   "cell_type": "code",
   "execution_count": null,
   "id": "83a8455abe8d9516",
   "metadata": {},
   "outputs": [],
   "source": [
    "import pickle\n",
    "with open('./datasets/benchmark.pkl', 'wb') as f:\n",
    "    pickle.dump(df, f)"
   ]
  },
  {
   "cell_type": "code",
   "execution_count": null,
   "id": "c7270e2703916f1f",
   "metadata": {},
   "outputs": [],
   "source": [
    "import pickle\n",
    "with open('./datasets/benchmark.pkl', 'rb') as f:\n",
    "    group = pickle.load(f)\n",
    "group"
   ]
  },
  {
   "cell_type": "code",
   "execution_count": null,
   "id": "addccdcb5f928a5f",
   "metadata": {},
   "outputs": [],
   "source": [
    "pred_value = 'accnav'\n",
    "sql = text(f\"SELECT fund_code, date, nav, accnav, adj_nav FROM b_fund_nav_details_new WHERE fund_code IN :codes AND date BETWEEN :start AND :end ORDER BY date\")\n",
    "df = pd.read_sql_query(\n",
    "    sql.bindparams(codes=tuple(['013152']), start='2020-07-13', end='2025-03-8'),\n",
    "    engine\n",
    ")\n",
    "df"
   ]
  },
  {
   "cell_type": "code",
   "execution_count": null,
   "id": "ce80d074f8b5598c",
   "metadata": {},
   "outputs": [],
   "source": [
    "df_stamp = pd.to_datetime(df['date'])\n",
    "df_stamp[1].year, df_stamp[1].month, df_stamp[1].day, df_stamp[1].weekday()"
   ]
  },
  {
   "cell_type": "code",
   "execution_count": null,
   "id": "2d10b8f8729aad3d",
   "metadata": {},
   "outputs": [],
   "source": []
  },
  {
   "cell_type": "code",
   "execution_count": null,
   "id": "948aba962b9938a6",
   "metadata": {},
   "outputs": [],
   "source": [
    "import pandas as pd\n",
    "import numpy as np\n",
    "df = pd.read_excel('./datasets/lottery/pl3_desc.xls', header=1)\n",
    "timestamps = pd.to_datetime(df['开奖日期'])\n",
    "timestamps = np.array([[ts.year, ts.month, ts.day, ts.weekday()] for ts in timestamps])\n",
    "x = np.array(df['号']).reshape(-1, 1)\n",
    "# timestamps\n",
    "x = np.concatenate((timestamps, x), axis=-1)\n",
    "df"
   ]
  },
  {
   "cell_type": "code",
   "execution_count": null,
   "id": "e5d1c64c2b9d5f93",
   "metadata": {},
   "outputs": [],
   "source": []
  },
  {
   "cell_type": "code",
   "execution_count": 1,
   "id": "644a7f113fc2a190",
   "metadata": {},
   "outputs": [
    {
     "name": "stdout",
     "output_type": "stream",
     "text": [
      "<module 'module.name' from '/home/rtx4090/code/python/当前任务/TimeSeries/configs/FinancialConfig.py'> FinancialConfig\n"
     ]
    }
   ],
   "source": [
    "import torch\n",
    "from baselines.Timer.Timer import *\n",
    "from utils.exp_config import get_config\n",
    "def get_timer(config):\n",
    "    # config.patch_len = 96\n",
    "    # config.d_model = 1024\n",
    "    # config.d_ff = 2048\n",
    "    # config.e_layers = 8\n",
    "    # config.n_heads = 8\n",
    "    # config.dropout = 0.10\n",
    "    # config.factor = 21\n",
    "    # config.output_attention = 1\n",
    "    # config.activation = 'gelu'\n",
    "    # config.ckpt_path = 'Timer_forecast_1.0.ckpt'\n",
    "    timer = Timer(config)\n",
    "    ckpt_path = 'Timer_forecast_1.0.ckpt'\n",
    "    sd = torch.load(ckpt_path, weights_only=False, map_location=\"cpu\")[\"state_dict\"]\n",
    "    sd = {k[6:]: v for k, v in sd.items()}\n",
    "    timer.load_state_dict(sd, strict=True)\n",
    "    return timer \n",
    "config = get_config('FinancialConfig')\n",
    "timer = get_timer(config)"
   ]
  },
  {
   "cell_type": "code",
   "execution_count": 15,
   "id": "61578a26",
   "metadata": {},
   "outputs": [
    {
     "name": "stdout",
     "output_type": "stream",
     "text": [
      "torch.Size([10, 3, 96])\n",
      "torch.Size([10, 3, 1024])\n",
      "torch.Size([10, 3, 1024])\n",
      "torch.Size([10, 3, 96])\n"
     ]
    }
   ],
   "source": [
    "x = torch.rand(10, 3, 96)\n",
    "print(x.shape)\n",
    "x_shape = x.shape\n",
    "x = timer.patch_embedding(x)[0].reshape((x_shape[0], x_shape[1], -1))\n",
    "print(x.shape)\n",
    "x, _= timer.decoder(x)\n",
    "print(x.shape)\n",
    "x = timer.proj(x)\n",
    "print(x.shape)"
   ]
  },
  {
   "cell_type": "code",
   "execution_count": 18,
   "id": "564c198e",
   "metadata": {},
   "outputs": [],
   "source": [
    "import einops\n",
    "x = torch.rand(10, 96, 68, 3)\n",
    "for i in range(x.shape[-2]):\n",
    "    now = einops.rearrange(x[:, :, i, :], 'bs seq d -> bs d seq')\n",
    "    now_shape = now.shape\n",
    "    now = timer.patch_embedding(now)[0].reshape((now_shape[0], now_shape[1], -1))\n",
    "    now, _= timer.decoder(now)\n",
    "    now = timer.proj(now)\n",
    "    x[:, :, i, :] = einops.rearrange(now, 'bs d seq -> bs seq d')"
   ]
  },
  {
   "cell_type": "code",
   "execution_count": 18,
   "id": "fabbb56d",
   "metadata": {},
   "outputs": [],
   "source": []
  },
  {
   "cell_type": "code",
   "execution_count": 4,
   "id": "42c57e88a02587ae",
   "metadata": {
    "ExecuteTime": {
     "end_time": "2025-05-14T07:14:22.195421477Z",
     "start_time": "2025-05-14T05:39:11.932833Z"
    }
   },
   "outputs": [
    {
     "name": "stdout",
     "output_type": "stream",
     "text": [
      "012497 -- len = 867, now min_length = 704\n",
      "012696 -- len = 893, now min_length = 704\n",
      "012697 -- len = 893, now min_length = 704\n",
      "\u001b[1;38;2;151;200;129m|2025-06-05 21:38:35| \u001b[0m\u001b[1mTrain_length : 467 Valid_length : 81 Test_length : 81\u001b[0m\n"
     ]
    },
    {
     "name": "stderr",
     "output_type": "stream",
     "text": [
      "\n"
     ]
    }
   ],
   "source": [
    "from data_provider.exp_dataloader import DataModule\n",
    "from exp.exp_model import Model\n",
    "from utils.exp_logger import Logger\n",
    "from utils.exp_metrics_plotter import MetricsPlotter\n",
    "from run_train import get_experiment_name\n",
    "from utils.utils import set_settings\n",
    "# Experiment Settings, logger, plotter\n",
    "from utils.exp_config import get_config\n",
    "config = get_config('FinancialConfig')\n",
    "config.multi_dataset = True\n",
    "set_settings(config)\n",
    "log_filename, exper_detail = get_experiment_name(config)\n",
    "plotter = MetricsPlotter(log_filename, config)\n",
    "log = Logger(log_filename, exper_detail, plotter, config)\n",
    "datamodule = DataModule(config)\n",
    "model = Model(config)"
   ]
  },
  {
   "cell_type": "code",
   "execution_count": null,
   "id": "83d067d4d4b3419b",
   "metadata": {
    "ExecuteTime": {
     "end_time": "2025-05-14T07:39:54.525191Z",
     "start_time": "2025-05-14T07:39:54.497395Z"
    }
   },
   "outputs": [],
   "source": [
    "import torch\n",
    "import torch.nn as nn\n",
    "\n",
    "# 假设输入\n",
    "bs, seq_len, channels, dim = 16, 48, 33, 64\n",
    "x_enc = torch.randn(bs, seq_len, channels, dim)\n",
    "\n",
    "# 定义 attention 层（无 batch_first 参数）\n",
    "attn_channel = nn.MultiheadAttention(embed_dim=dim, num_heads=8)  # expects (seq_len, batch, dim)\n",
    "attn_time = nn.MultiheadAttention(embed_dim=dim, num_heads=8)\n",
    "\n",
    "# ===== 1. 跨通道 attention =====\n",
    "# 原始 x_enc: (bs, 48, 33, 64)\n",
    "# 调整为 (33, bs*48, 64)\n",
    "x_enc_reshaped = x_enc.permute(2, 0, 1, 3).reshape(channels, bs * seq_len, dim)\n",
    "\n",
    "# 注意力：通道之间的 self-attention\n",
    "x_channel_attn, _ = attn_channel(x_enc_reshaped, x_enc_reshaped, x_enc_reshaped)  # (33, bs*48, 64)\n",
    "\n",
    "# 还原为 (bs, 48, 33, 64)\n",
    "x_channel_attn = x_channel_attn.reshape(channels, bs, seq_len, dim).permute(1, 2, 0, 3)\n",
    "\n",
    "# ===== 2. 跨时间 attention =====\n",
    "# 调整为 (48, bs*33, 64)\n",
    "x_time_input = x_channel_attn.permute(1, 0, 2, 3).reshape(seq_len, bs * channels, dim)\n",
    "\n",
    "# 注意力：时间步之间的 self-attention\n",
    "x_time_attn, _ = attn_time(x_time_input, x_time_input, x_time_input)  # (48, bs*33, 64)\n",
    "\n",
    "# 还原为 (bs, 48, 33, 64)\n",
    "x_time_attn = x_time_attn.reshape(seq_len, bs, channels, dim).permute(1, 0, 2, 3)\n",
    "\n",
    "# 最终输出\n",
    "print(x_time_attn.shape)  # torch.Size([16, 48, 33, 64])\n"
   ]
  },
  {
   "cell_type": "code",
   "execution_count": 26,
   "id": "34b77a8a50c3e4d3",
   "metadata": {
    "ExecuteTime": {
     "end_time": "2025-05-15T08:54:42.394091Z",
     "start_time": "2025-05-15T08:54:42.206443Z"
    }
   },
   "outputs": [],
   "source": [
    "from modules.backbone import Backbone\n",
    "from run_train import *\n",
    "\n",
    "from utils.exp_config import get_config\n",
    "config = get_config()\n",
    "# datamodule = DataModule(config)\n",
    "# model = Model(datamodule, config)\n",
    "model = Backbone(3, config)"
   ]
  },
  {
   "cell_type": "code",
   "execution_count": 27,
   "id": "e0cc9844e24299a6",
   "metadata": {
    "ExecuteTime": {
     "end_time": "2025-05-15T08:54:44.753971Z",
     "start_time": "2025-05-15T08:54:44.746305Z"
    }
   },
   "outputs": [],
   "source": [
    "bs, seq_len, channels, dim = 1, 48, 33, 3\n",
    "random_inputs = torch.rand(bs, seq_len, channels, dim)\n",
    "y = model(random_inputs, None, None)\n",
    "# [1, 48, 32, 3]"
   ]
  },
  {
   "cell_type": "code",
   "execution_count": 28,
   "id": "a1df9f4965779f7c",
   "metadata": {
    "ExecuteTime": {
     "end_time": "2025-05-15T08:55:06.532773Z",
     "start_time": "2025-05-15T08:55:06.526640Z"
    }
   },
   "outputs": [],
   "source": [
    "bs, seq_len, channels, dim = 1, 48, 1, 3\n",
    "random_inputs = torch.rand(bs, seq_len, channels, dim)\n",
    "y = model(random_inputs, None, None)\n",
    "# [1, 48, 32, 3]"
   ]
  },
  {
   "cell_type": "code",
   "execution_count": 17,
   "id": "ddb1fd89c0e320dc",
   "metadata": {
    "ExecuteTime": {
     "end_time": "2025-05-15T07:27:41.716108Z",
     "start_time": "2025-05-15T07:27:41.708539Z"
    }
   },
   "outputs": [],
   "source": [
    "bs, seq_len, channels, dim = 1, 48, 16, 3\n",
    "random_inputs = torch.rand(bs, seq_len, channels, dim)\n",
    "y = model(random_inputs, None, None)\n",
    "# [1, 48, 32, 3]"
   ]
  },
  {
   "cell_type": "code",
   "execution_count": 1,
   "id": "17d341a7",
   "metadata": {},
   "outputs": [
    {
     "name": "stdout",
     "output_type": "stream",
     "text": [
      "torch.Size([2, 3, 4, 4, 4])\n"
     ]
    }
   ],
   "source": [
    "import torch\n",
    "\n",
    "x = torch.arange(2*3*4*10).reshape(2, 3, 4, 10)\n",
    "patch_len = 4\n",
    "stride = 2\n",
    "\n",
    "x_unfolded = x.unfold(dimension=-1, size=patch_len, step=stride)\n",
    "print(x_unfolded.shape)"
   ]
  },
  {
   "cell_type": "code",
   "execution_count": 10,
   "id": "7057217c",
   "metadata": {},
   "outputs": [
    {
     "name": "stdout",
     "output_type": "stream",
     "text": [
      "缺失的编号： [23, 28, 30, 36, 37, 55, 64, 66, 72, 79, 120]\n"
     ]
    }
   ],
   "source": [
    "import os\n",
    "\n",
    "# 读取所有文件名\n",
    "all_files = os.listdir('results/ours/20250619/log')\n",
    "\n",
    "# 提取每个文件中 _Multi_ 与 .md 之间的数字\n",
    "existing_ids = set()\n",
    "for filename in all_files:\n",
    "    try:\n",
    "        num = int(filename.split('_Multi_')[1].split('.md')[0])\n",
    "        existing_ids.add(num)\n",
    "    except (IndexError, ValueError):\n",
    "        continue\n",
    "\n",
    "# 检查 1-130 中缺失的编号\n",
    "missing_ids = [i for i in range(0, 125) if i not in existing_ids]\n",
    "\n",
    "print(\"缺失的编号：\", missing_ids)"
   ]
  },
  {
   "cell_type": "code",
   "execution_count": null,
   "id": "0270da75",
   "metadata": {},
   "outputs": [],
   "source": []
  }
 ],
 "metadata": {
  "kernelspec": {
   "display_name": "base",
   "language": "python",
   "name": "python3"
  },
  "language_info": {
   "codemirror_mode": {
    "name": "ipython",
    "version": 3
   },
   "file_extension": ".py",
   "mimetype": "text/x-python",
   "name": "python",
   "nbconvert_exporter": "python",
   "pygments_lexer": "ipython3",
   "version": "3.12.4"
  }
 },
 "nbformat": 4,
 "nbformat_minor": 5
}
