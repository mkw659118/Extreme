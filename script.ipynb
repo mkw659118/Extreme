{
 "cells": [
  {
   "metadata": {
    "ExecuteTime": {
     "end_time": "2025-05-14T07:14:22.186416Z",
     "start_time": "2025-05-14T07:14:21.994367Z"
    }
   },
   "cell_type": "code",
   "source": [
    "from modules.cluster import *\n",
    "mapping_array = get_each_cluster_group_idx()"
   ],
   "id": "2a60cc1a85c1e81b",
   "outputs": [
    {
     "ename": "FileNotFoundError",
     "evalue": "[Errno 2] No such file or directory: '../datasets/financial/'",
     "output_type": "error",
     "traceback": [
      "\u001B[0;31m---------------------------------------------------------------------------\u001B[0m",
      "\u001B[0;31mFileNotFoundError\u001B[0m                         Traceback (most recent call last)",
      "Cell \u001B[0;32mIn[26], line 2\u001B[0m\n\u001B[1;32m      1\u001B[0m \u001B[38;5;28;01mfrom\u001B[39;00m \u001B[38;5;21;01mmodules\u001B[39;00m\u001B[38;5;21;01m.\u001B[39;00m\u001B[38;5;21;01mcluster\u001B[39;00m \u001B[38;5;28;01mimport\u001B[39;00m \u001B[38;5;241m*\u001B[39m\n\u001B[0;32m----> 2\u001B[0m mapping_array \u001B[38;5;241m=\u001B[39m get_each_cluster_group_idx()\n",
      "File \u001B[0;32m~/code/python/TimeSeries/modules/cluster.py:26\u001B[0m, in \u001B[0;36mget_each_cluster_group_idx\u001B[0;34m()\u001B[0m\n\u001B[1;32m     25\u001B[0m \u001B[38;5;28;01mdef\u001B[39;00m \u001B[38;5;21mget_each_cluster_group_idx\u001B[39m():\n\u001B[0;32m---> 26\u001B[0m     all_address \u001B[38;5;241m=\u001B[39m os\u001B[38;5;241m.\u001B[39mlistdir(\u001B[38;5;124m'\u001B[39m\u001B[38;5;124m../datasets/financial/\u001B[39m\u001B[38;5;124m'\u001B[39m)\n\u001B[1;32m     27\u001B[0m     \u001B[38;5;28mprint\u001B[39m(\u001B[38;5;28mlen\u001B[39m(all_address))\n\u001B[1;32m     29\u001B[0m     all_length \u001B[38;5;241m=\u001B[39m []\n",
      "\u001B[0;31mFileNotFoundError\u001B[0m: [Errno 2] No such file or directory: '../datasets/financial/'"
     ]
    }
   ],
   "execution_count": 26
  },
  {
   "metadata": {},
   "cell_type": "code",
   "source": [
    "import json\n",
    "\n",
    "from sqlalchemy import create_engine, text\n",
    "import pandas as pd\n",
    "\n",
    "# 数据库配置\n",
    "import pickle\n",
    "with open('./datasets/sql_token.pkl', 'rb') as f:\n",
    "    DB_URI = pickle.load(f)\n",
    "\n",
    "engine = create_engine(DB_URI)\n",
    "DATA_JSON_PATH = './datasets/data.json'\n",
    "\n",
    "# 加载分类数据\n",
    "with open(DATA_JSON_PATH) as f:\n",
    "    group_map = json.load(f)\n"
   ],
   "id": "92366f7f25602f19",
   "outputs": [],
   "execution_count": null
  },
  {
   "metadata": {},
   "cell_type": "code",
   "source": [
    "for group_idx, (group_name, group_list) in enumerate(group_map.items()):\n",
    "    for group_data in group_list:\n",
    "        if group_name == 'stock1' and group_data['industry_code'] in ['270000', '480000']:\n",
    "            print(group_name, group_data, )\n",
    "        # break\n",
    "    # break"
   ],
   "id": "a297cfd7b575be0f",
   "outputs": [],
   "execution_count": null
  },
  {
   "metadata": {},
   "cell_type": "code",
   "source": "",
   "id": "eb98e87ed81517e2",
   "outputs": [],
   "execution_count": null
  },
  {
   "metadata": {},
   "cell_type": "code",
   "source": [
    "df = {}\n",
    "for i in range(len(group_map['stock1'])):\n",
    "    if group_map['stock1'][i]['industry_code'] == '270000':\n",
    "        print(group_map['stock1'][i])\n",
    "        df['stock-270000'] = group_map['stock1'][i]['code_list']\n",
    "df"
   ],
   "id": "e54aded75946392",
   "outputs": [],
   "execution_count": null
  },
  {
   "metadata": {},
   "cell_type": "code",
   "source": [
    "import pickle\n",
    "with open('./datasets/benchmark.pkl', 'wb') as f:\n",
    "    pickle.dump(df, f)"
   ],
   "id": "83a8455abe8d9516",
   "outputs": [],
   "execution_count": null
  },
  {
   "metadata": {},
   "cell_type": "code",
   "source": [
    "import pickle\n",
    "with open('./datasets/benchmark.pkl', 'rb') as f:\n",
    "    group = pickle.load(f)\n",
    "group"
   ],
   "id": "c7270e2703916f1f",
   "outputs": [],
   "execution_count": null
  },
  {
   "metadata": {},
   "cell_type": "code",
   "source": [
    "pred_value = 'accnav'\n",
    "sql = text(f\"SELECT fund_code, date, nav, accnav, adj_nav FROM b_fund_nav_details_new WHERE fund_code IN :codes AND date BETWEEN :start AND :end ORDER BY date\")\n",
    "df = pd.read_sql_query(\n",
    "    sql.bindparams(codes=tuple(['013152']), start='2020-07-13', end='2025-03-8'),\n",
    "    engine\n",
    ")\n",
    "df"
   ],
   "id": "addccdcb5f928a5f",
   "outputs": [],
   "execution_count": null
  },
  {
   "metadata": {},
   "cell_type": "code",
   "source": [
    "df_stamp = pd.to_datetime(df['date'])\n",
    "df_stamp[1].year, df_stamp[1].month, df_stamp[1].day, df_stamp[1].weekday()"
   ],
   "id": "ce80d074f8b5598c",
   "outputs": [],
   "execution_count": null
  },
  {
   "metadata": {},
   "cell_type": "code",
   "source": "",
   "id": "2d10b8f8729aad3d",
   "outputs": [],
   "execution_count": null
  },
  {
   "metadata": {},
   "cell_type": "code",
   "source": [
    "import pandas as pd\n",
    "import numpy as np\n",
    "df = pd.read_excel('./datasets/lottery/pl3_desc.xls', header=1)\n",
    "timestamps = pd.to_datetime(df['开奖日期'])\n",
    "timestamps = np.array([[ts.year, ts.month, ts.day, ts.weekday()] for ts in timestamps])\n",
    "x = np.array(df['号']).reshape(-1, 1)\n",
    "# timestamps\n",
    "x = np.concatenate((timestamps, x), axis=-1)\n",
    "df"
   ],
   "id": "948aba962b9938a6",
   "outputs": [],
   "execution_count": null
  },
  {
   "metadata": {},
   "cell_type": "code",
   "source": "",
   "id": "e5d1c64c2b9d5f93",
   "outputs": [],
   "execution_count": null
  },
  {
   "metadata": {},
   "cell_type": "code",
   "source": [
    "from modules.pretrain_timer import Timer\n",
    "import torch\n",
    "from utils.exp_config import get_config\n",
    "config = get_config()\n",
    "config.patch_len = 96\n",
    "config.d_model = 1024\n",
    "config.d_ff = 2048\n",
    "config.e_layers = 8\n",
    "config.n_heads = 8\n",
    "config.dropout = 0.10\n",
    "config.factor = 1\n",
    "config.output_attention = 1\n",
    "config.activation = 'gelu'\n",
    "config.ckpt_path = 'Timer_forecast_1.0.ckpt'\n",
    "backbone = Timer(config)\n",
    "ckpt_path = 'Timer_forecast_1.0.ckpt'\n",
    "sd = torch.load(ckpt_path, weights_only=False, map_location=\"cpu\")[\"state_dict\"]\n",
    "sd = {k[6:]: v for k, v in sd.items()}\n",
    "backbone.load_state_dict(sd, strict=True)"
   ],
   "id": "644a7f113fc2a190",
   "outputs": [],
   "execution_count": null
  },
  {
   "metadata": {
    "ExecuteTime": {
     "end_time": "2025-05-14T07:14:22.195421477Z",
     "start_time": "2025-05-14T05:39:11.932833Z"
    }
   },
   "cell_type": "code",
   "source": [
    "from utils.exp_logger import Logger\n",
    "from utils.exp_metrics_plotter import MetricsPlotter\n",
    "from run_train import get_experiment_name\n",
    "from utils.utils import set_settings\n",
    "from c_model_center import Model\n",
    "from a_data_center import DataModule\n",
    "# Experiment Settings, logger, plotter\n",
    "from utils.exp_config import get_config\n",
    "config = get_config()\n",
    "config.multi_dataset = True\n",
    "set_settings(config)\n",
    "log_filename, exper_detail = get_experiment_name(config)\n",
    "plotter = MetricsPlotter(log_filename, config)\n",
    "log = Logger(log_filename, exper_detail, plotter, config)\n",
    "datamodule = DataModule(config)\n",
    "# model = Model(datamodule, config)"
   ],
   "id": "42c57e88a02587ae",
   "outputs": [
    {
     "name": "stdout",
     "output_type": "stream",
     "text": [
      "\u001B[1;38;2;151;200;129m|2025-05-14 13:39:14| \u001B[0m\u001B[1m{\n",
      "     'ablation': 0, 'att_method': self, 'bs': 32\n",
      "     'classification': False, 'continue_train': False, 'dataset': financial\n",
      "     'debug': False, 'decay': 0.0001, 'density': 0.7\n",
      "     'device': cuda, 'dis_method': cosine, 'epochs': 200\n",
      "     'eval_set': True, 'ffn_method': moe, 'fft': False\n",
      "     'hyper_search': False, 'idx': 0, 'log': <utils.exp_logger.Logger object at 0x738009311f70>\n",
      "     'logger': None, 'loss_func': MSELoss, 'lr': 0.001\n",
      "     'model': ours, 'monitor_metric': MAE, 'multi_dataset': True\n",
      "     'norm_method': rms, 'num_layers': 4, 'optim': AdamW\n",
      "     'path': ./datasets/, 'patience': 30, 'pred_len': 10\n",
      "     'rank': 64, 'record': True, 'retrain': True\n",
      "     'revin': False, 'rounds': 1, 'scaler_method': stander\n",
      "     'seed': 0, 'seq_len': 48, 'shuffle': False\n",
      "     'train_size': 500, 'try_exp': 1, 'ts_var': 0\n",
      "     'use_train_size': False, 'verbose': 5\n",
      "}\u001B[0m\n",
      "./datasets/financial/560100.pkl\n",
      "(761, 8) (761,)\n",
      "./datasets/financial/560100.pkl\n",
      "(761, 8) (761,)\n",
      "./datasets/financial/015593.pkl\n",
      "(697, 8) (697,)\n",
      "./datasets/financial/012320.pkl\n",
      "(830, 8) (830,)\n",
      "./datasets/financial/012319.pkl\n",
      "(830, 8) (830,)\n",
      "./datasets/financial/013339.pkl\n",
      "(840, 8) (840,)\n",
      "./datasets/financial/013340.pkl\n",
      "(840, 8) (840,)\n",
      "./datasets/financial/014418.pkl\n",
      "(787, 8) (787,)\n",
      "./datasets/financial/014419.pkl\n",
      "(787, 8) (787,)\n",
      "./datasets/financial/016052.pkl\n",
      "(659, 8) (659,)\n",
      "./datasets/financial/014193.pkl\n",
      "(799, 8) (799,)\n",
      "./datasets/financial/014194.pkl\n",
      "(799, 8) (799,)\n",
      "./datasets/financial/014587.pkl\n",
      "(684, 8) (684,)\n",
      "./datasets/financial/014588.pkl\n",
      "(684, 8) (684,)\n",
      "./datasets/financial/015773.pkl\n",
      "(697, 8) (697,)\n",
      "./datasets/financial/013242.pkl\n",
      "(839, 8) (839,)\n",
      "./datasets/financial/014854.pkl\n",
      "(701, 8) (701,)\n",
      "./datasets/financial/014855.pkl\n",
      "(701, 8) (701,)\n",
      "./datasets/financial/013465.pkl\n",
      "(778, 8) (778,)\n",
      "./datasets/financial/013466.pkl\n",
      "(778, 8) (778,)\n",
      "./datasets/financial/013005.pkl\n",
      "(817, 8) (817,)\n",
      "./datasets/financial/013004.pkl\n",
      "(817, 8) (817,)\n",
      "./datasets/financial/015075.pkl\n",
      "(756, 8) (756,)\n",
      "./datasets/financial/013622.pkl\n",
      "(838, 8) (838,)\n",
      "./datasets/financial/014299.pkl\n",
      "(732, 8) (732,)\n",
      "./datasets/financial/014300.pkl\n",
      "(732, 8) (732,)\n",
      "./datasets/financial/015199.pkl\n",
      "(742, 8) (742,)\n",
      "./datasets/financial/015198.pkl\n",
      "(742, 8) (742,)\n",
      "./datasets/financial/014377.pkl\n",
      "(724, 8) (724,)\n",
      "./datasets/financial/014376.pkl\n",
      "(724, 8) (724,)\n",
      "./datasets/financial/012496.pkl\n",
      "(822, 8) (822,)\n",
      "./datasets/financial/012497.pkl\n",
      "(822, 8) (822,)\n",
      "./datasets/financial/012696.pkl\n",
      "(848, 8) (848,)\n",
      "./datasets/financial/012697.pkl\n",
      "(848, 8) (848,)\n",
      "(17801, 8) (17801,)\n",
      "\u001B[1;38;2;151;200;129m|2025-05-14 13:39:14| \u001B[0m\u001B[1mTrain_length : 17744 Valid_length : 2473 Test_length : 5067\u001B[0m\n"
     ]
    },
    {
     "name": "stderr",
     "output_type": "stream",
     "text": [
      "/home/rtx4090/code/python/TimeSeries/modules/load_data/get_financial.py:133: RuntimeWarning: invalid value encountered in divide\n",
      "  all_train_x[:, -i] = (all_train_x[:, -i] - now_mean) / now_std\n",
      "/home/rtx4090/code/python/TimeSeries/modules/load_data/get_financial.py:134: RuntimeWarning: invalid value encountered in divide\n",
      "  all_valid_x[:, -i] = (all_valid_x[:, -i] - now_mean) / now_std\n",
      "/home/rtx4090/code/python/TimeSeries/modules/load_data/get_financial.py:135: RuntimeWarning: invalid value encountered in divide\n",
      "  all_test_x[:, -i] = (all_test_x[:, -i] - now_mean) / now_std\n"
     ]
    }
   ],
   "execution_count": 1
  },
  {
   "metadata": {
    "ExecuteTime": {
     "end_time": "2025-05-14T07:14:22.196203739Z",
     "start_time": "2025-05-14T05:39:35.610610Z"
    }
   },
   "cell_type": "code",
   "source": "",
   "id": "b876ea79267c6392",
   "outputs": [
    {
     "name": "stdout",
     "output_type": "stream",
     "text": [
      "./datasets/financial/560100.pkl\n",
      "./datasets/financial/015593.pkl\n",
      "./datasets/financial/012320.pkl\n",
      "./datasets/financial/012319.pkl\n",
      "./datasets/financial/013339.pkl\n",
      "./datasets/financial/013340.pkl\n",
      "./datasets/financial/014418.pkl\n",
      "./datasets/financial/014419.pkl\n",
      "./datasets/financial/016052.pkl\n",
      "./datasets/financial/014193.pkl\n",
      "./datasets/financial/014194.pkl\n",
      "./datasets/financial/014587.pkl\n",
      "./datasets/financial/014588.pkl\n",
      "./datasets/financial/015773.pkl\n",
      "./datasets/financial/013242.pkl\n",
      "./datasets/financial/014854.pkl\n",
      "./datasets/financial/014855.pkl\n",
      "./datasets/financial/013465.pkl\n",
      "./datasets/financial/013466.pkl\n",
      "./datasets/financial/013005.pkl\n",
      "./datasets/financial/013004.pkl\n",
      "./datasets/financial/015075.pkl\n",
      "./datasets/financial/013622.pkl\n",
      "./datasets/financial/014299.pkl\n",
      "./datasets/financial/014300.pkl\n",
      "./datasets/financial/015199.pkl\n",
      "./datasets/financial/015198.pkl\n",
      "./datasets/financial/014377.pkl\n",
      "./datasets/financial/014376.pkl\n",
      "./datasets/financial/012496.pkl\n",
      "./datasets/financial/012497.pkl\n",
      "./datasets/financial/012696.pkl\n",
      "./datasets/financial/012697.pkl\n",
      "./datasets/financial/560100.pkl\n",
      "./datasets/financial/015593.pkl\n",
      "./datasets/financial/012320.pkl\n",
      "./datasets/financial/012319.pkl\n",
      "./datasets/financial/013339.pkl\n",
      "./datasets/financial/013340.pkl\n",
      "./datasets/financial/014418.pkl\n",
      "./datasets/financial/014419.pkl\n",
      "./datasets/financial/016052.pkl\n",
      "./datasets/financial/014193.pkl\n",
      "./datasets/financial/014194.pkl\n",
      "./datasets/financial/014587.pkl\n",
      "./datasets/financial/014588.pkl\n",
      "./datasets/financial/015773.pkl\n",
      "./datasets/financial/013242.pkl\n",
      "./datasets/financial/014854.pkl\n",
      "./datasets/financial/014855.pkl\n",
      "./datasets/financial/013465.pkl\n",
      "./datasets/financial/013466.pkl\n",
      "./datasets/financial/013005.pkl\n",
      "./datasets/financial/013004.pkl\n",
      "./datasets/financial/015075.pkl\n",
      "./datasets/financial/013622.pkl\n",
      "./datasets/financial/014299.pkl\n",
      "./datasets/financial/014300.pkl\n",
      "./datasets/financial/015199.pkl\n",
      "./datasets/financial/015198.pkl\n",
      "./datasets/financial/014377.pkl\n",
      "./datasets/financial/014376.pkl\n",
      "./datasets/financial/012496.pkl\n",
      "./datasets/financial/012497.pkl\n",
      "./datasets/financial/012696.pkl\n",
      "./datasets/financial/012697.pkl\n"
     ]
    },
    {
     "data": {
      "text/plain": [
       "(33, 659, 8)"
      ]
     },
     "execution_count": 2,
     "metadata": {},
     "output_type": "execute_result"
    }
   ],
   "execution_count": 2
  },
  {
   "metadata": {
    "ExecuteTime": {
     "end_time": "2025-05-14T07:14:22.196401087Z",
     "start_time": "2025-05-14T07:11:20.781578Z"
    }
   },
   "cell_type": "code",
   "source": [
    "from modules.load_data.get_financial import get_benchmark_code, get_data\n",
    "import numpy as np\n",
    "now_fund_code = get_benchmark_code()\n",
    "\n",
    "min_length = 1e9\n",
    "for fund_code in now_fund_code:\n",
    "    df = get_data(fund_code)\n",
    "    min_length = min(len(df), min_length)\n",
    "\n",
    "raw_data = []\n",
    "for fund_code in now_fund_code:\n",
    "    df = get_data(fund_code)\n",
    "    raw_data.append(df[-min_length:])"
   ],
   "id": "704e651cd5af18b1",
   "outputs": [
    {
     "name": "stdout",
     "output_type": "stream",
     "text": [
      "./datasets/financial/560100.pkl\n",
      "./datasets/financial/015593.pkl\n",
      "./datasets/financial/012320.pkl\n",
      "./datasets/financial/012319.pkl\n",
      "./datasets/financial/013339.pkl\n",
      "./datasets/financial/013340.pkl\n",
      "./datasets/financial/014418.pkl\n",
      "./datasets/financial/014419.pkl\n",
      "./datasets/financial/016052.pkl\n",
      "./datasets/financial/014193.pkl\n",
      "./datasets/financial/014194.pkl\n",
      "./datasets/financial/014587.pkl\n",
      "./datasets/financial/014588.pkl\n",
      "./datasets/financial/015773.pkl\n",
      "./datasets/financial/013242.pkl\n",
      "./datasets/financial/014854.pkl\n",
      "./datasets/financial/014855.pkl\n",
      "./datasets/financial/013465.pkl\n",
      "./datasets/financial/013466.pkl\n",
      "./datasets/financial/013005.pkl\n",
      "./datasets/financial/013004.pkl\n",
      "./datasets/financial/015075.pkl\n",
      "./datasets/financial/013622.pkl\n",
      "./datasets/financial/014299.pkl\n",
      "./datasets/financial/014300.pkl\n",
      "./datasets/financial/015199.pkl\n",
      "./datasets/financial/015198.pkl\n",
      "./datasets/financial/014377.pkl\n",
      "./datasets/financial/014376.pkl\n",
      "./datasets/financial/012496.pkl\n",
      "./datasets/financial/012497.pkl\n",
      "./datasets/financial/012696.pkl\n",
      "./datasets/financial/012697.pkl\n",
      "./datasets/financial/560100.pkl\n",
      "./datasets/financial/015593.pkl\n",
      "./datasets/financial/012320.pkl\n",
      "./datasets/financial/012319.pkl\n",
      "./datasets/financial/013339.pkl\n",
      "./datasets/financial/013340.pkl\n",
      "./datasets/financial/014418.pkl\n",
      "./datasets/financial/014419.pkl\n",
      "./datasets/financial/016052.pkl\n",
      "./datasets/financial/014193.pkl\n",
      "./datasets/financial/014194.pkl\n",
      "./datasets/financial/014587.pkl\n",
      "./datasets/financial/014588.pkl\n",
      "./datasets/financial/015773.pkl\n",
      "./datasets/financial/013242.pkl\n",
      "./datasets/financial/014854.pkl\n",
      "./datasets/financial/014855.pkl\n",
      "./datasets/financial/013465.pkl\n",
      "./datasets/financial/013466.pkl\n",
      "./datasets/financial/013005.pkl\n",
      "./datasets/financial/013004.pkl\n",
      "./datasets/financial/015075.pkl\n",
      "./datasets/financial/013622.pkl\n",
      "./datasets/financial/014299.pkl\n",
      "./datasets/financial/014300.pkl\n",
      "./datasets/financial/015199.pkl\n",
      "./datasets/financial/015198.pkl\n",
      "./datasets/financial/014377.pkl\n",
      "./datasets/financial/014376.pkl\n",
      "./datasets/financial/012496.pkl\n",
      "./datasets/financial/012497.pkl\n",
      "./datasets/financial/012696.pkl\n",
      "./datasets/financial/012697.pkl\n"
     ]
    }
   ],
   "execution_count": 23
  },
  {
   "metadata": {
    "ExecuteTime": {
     "end_time": "2025-05-14T07:14:22.196896598Z",
     "start_time": "2025-05-14T07:11:32.765617Z"
    }
   },
   "cell_type": "code",
   "source": [
    "data = np.stack(raw_data, axis=0)\n",
    "data = data.transpose(1, 0, 2)\n",
    "x, y = data[:, :, :], data[:, :, -1]"
   ],
   "id": "d9b60daea23fef24",
   "outputs": [
    {
     "data": {
      "text/plain": [
       "((659, 33, 8), (659, 33))"
      ]
     },
     "execution_count": 25,
     "metadata": {},
     "output_type": "execute_result"
    }
   ],
   "execution_count": 25
  },
  {
   "metadata": {
    "ExecuteTime": {
     "end_time": "2025-05-14T07:39:54.525191Z",
     "start_time": "2025-05-14T07:39:54.497395Z"
    }
   },
   "cell_type": "code",
   "source": [
    "import torch\n",
    "import torch.nn as nn\n",
    "\n",
    "# 假设输入\n",
    "bs, seq_len, channels, dim = 16, 48, 33, 64\n",
    "x_enc = torch.randn(bs, seq_len, channels, dim)\n",
    "\n",
    "# 定义 attention 层（无 batch_first 参数）\n",
    "attn_channel = nn.MultiheadAttention(embed_dim=dim, num_heads=8)  # expects (seq_len, batch, dim)\n",
    "attn_time = nn.MultiheadAttention(embed_dim=dim, num_heads=8)\n",
    "\n",
    "# ===== 1. 跨通道 attention =====\n",
    "# 原始 x_enc: (bs, 48, 33, 64)\n",
    "# 调整为 (33, bs*48, 64)\n",
    "x_enc_reshaped = x_enc.permute(2, 0, 1, 3).reshape(channels, bs * seq_len, dim)\n",
    "\n",
    "# 注意力：通道之间的 self-attention\n",
    "x_channel_attn, _ = attn_channel(x_enc_reshaped, x_enc_reshaped, x_enc_reshaped)  # (33, bs*48, 64)\n",
    "\n",
    "# 还原为 (bs, 48, 33, 64)\n",
    "x_channel_attn = x_channel_attn.reshape(channels, bs, seq_len, dim).permute(1, 2, 0, 3)\n",
    "\n",
    "# ===== 2. 跨时间 attention =====\n",
    "# 调整为 (48, bs*33, 64)\n",
    "x_time_input = x_channel_attn.permute(1, 0, 2, 3).reshape(seq_len, bs * channels, dim)\n",
    "\n",
    "# 注意力：时间步之间的 self-attention\n",
    "x_time_attn, _ = attn_time(x_time_input, x_time_input, x_time_input)  # (48, bs*33, 64)\n",
    "\n",
    "# 还原为 (bs, 48, 33, 64)\n",
    "x_time_attn = x_time_attn.reshape(seq_len, bs, channels, dim).permute(1, 0, 2, 3)\n",
    "\n",
    "# 最终输出\n",
    "print(x_time_attn.shape)  # torch.Size([16, 48, 33, 64])\n"
   ],
   "id": "83d067d4d4b3419b",
   "outputs": [
    {
     "name": "stdout",
     "output_type": "stream",
     "text": [
      "torch.Size([16, 48, 33, 64])\n"
     ]
    }
   ],
   "execution_count": 36
  },
  {
   "metadata": {},
   "cell_type": "code",
   "outputs": [],
   "execution_count": null,
   "source": "",
   "id": "730231e06bb04cdf"
  }
 ],
 "metadata": {
  "kernelspec": {
   "display_name": "Python 3",
   "language": "python",
   "name": "python3"
  },
  "language_info": {
   "codemirror_mode": {
    "name": "ipython",
    "version": 2
   },
   "file_extension": ".py",
   "mimetype": "text/x-python",
   "name": "python",
   "nbconvert_exporter": "python",
   "pygments_lexer": "ipython2",
   "version": "2.7.6"
  }
 },
 "nbformat": 4,
 "nbformat_minor": 5
}
