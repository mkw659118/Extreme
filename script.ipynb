{
 "cells": [
  {
   "metadata": {},
   "cell_type": "code",
   "source": [
    "import json\n",
    "\n",
    "from sqlalchemy import create_engine, text\n",
    "import pandas as pd\n",
    "\n",
    "# 数据库配置\n",
    "import pickle\n",
    "with open('./datasets/sql_token.pkl', 'rb') as f:\n",
    "    DB_URI = pickle.load(f)\n",
    "\n",
    "engine = create_engine(DB_URI)\n",
    "DATA_JSON_PATH = './datasets/data.json'\n",
    "\n",
    "# 加载分类数据\n",
    "with open(DATA_JSON_PATH) as f:\n",
    "    group_map = json.load(f)\n"
   ],
   "id": "92366f7f25602f19",
   "outputs": [],
   "execution_count": null
  },
  {
   "metadata": {},
   "cell_type": "code",
   "source": [
    "for group_idx, (group_name, group_list) in enumerate(group_map.items()):\n",
    "    for group_data in group_list:\n",
    "        if group_name == 'stock1' and group_data['industry_code'] in ['270000', '480000']:\n",
    "            print(group_name, group_data, )\n",
    "        # break\n",
    "    # break"
   ],
   "id": "a297cfd7b575be0f",
   "outputs": [],
   "execution_count": null
  },
  {
   "metadata": {},
   "cell_type": "code",
   "source": [
    "for i in range(len(group_map['stock1'])):\n",
    "    if group_map['stock1'][i]['industry_code'] == '270000':\n",
    "        print(group_map['stock1'][i])\n",
    "\n",
    "for i in range(len(group_map['stock1'])):\n",
    "    if group_map['stock1'][i]['industry_code'] == '480000':\n",
    "        print(group_map['stock1'][i])"
   ],
   "id": "eb98e87ed81517e2",
   "outputs": [],
   "execution_count": null
  },
  {
   "metadata": {},
   "cell_type": "code",
   "source": [
    "pred_value = 'accnav'\n",
    "sql = text(f\"SELECT fund_code, date, nav, accnav, adj_nav FROM b_fund_nav_details_new WHERE fund_code IN :codes AND date BETWEEN :start AND :end ORDER BY date\")\n",
    "df = pd.read_sql_query(\n",
    "    sql.bindparams(codes=tuple(['013152']), start='2020-07-13', end='2025-03-8'),\n",
    "    engine\n",
    ")\n",
    "df"
   ],
   "id": "addccdcb5f928a5f",
   "outputs": [],
   "execution_count": null
  },
  {
   "metadata": {},
   "cell_type": "code",
   "source": [
    "df_stamp = pd.to_datetime(df['date'])\n",
    "df_stamp[1].year, df_stamp[1].month, df_stamp[1].day, df_stamp[1].weekday()"
   ],
   "id": "ce80d074f8b5598c",
   "outputs": [],
   "execution_count": null
  },
  {
   "metadata": {},
   "cell_type": "code",
   "source": [
    "from c_model_center import Model\n",
    "from a_data_center import DataModule\n",
    "# Experiment Settings, logger, plotter\n",
    "from utils.exp_config import get_config\n",
    "config = get_config()\n",
    "\n",
    "datamodule = DataModule(config)\n",
    "model = Model(datamodule, config)\n",
    "datamodule.test_x[0]"
   ],
   "id": "2d10b8f8729aad3d",
   "outputs": [],
   "execution_count": null
  },
  {
   "metadata": {},
   "cell_type": "code",
   "source": "datamodule.valid_x[0]",
   "id": "bd5dff9508eead46",
   "outputs": [],
   "execution_count": null
  },
  {
   "metadata": {},
   "cell_type": "code",
   "source": "datamodule.train_x[0]",
   "id": "8c07928eb4b9f9b5",
   "outputs": [],
   "execution_count": null
  },
  {
   "metadata": {},
   "cell_type": "code",
   "source": "9 * 160 + 200 * 7",
   "id": "7900921ebb4b053f",
   "outputs": [],
   "execution_count": null
  },
  {
   "metadata": {},
   "cell_type": "code",
   "source": "a = torch.randn(2, 2)",
   "id": "165a874b4b30562",
   "outputs": [],
   "execution_count": null
  },
  {
   "metadata": {},
   "cell_type": "code",
   "source": [
    "import torch\n",
    "# a = torch.tensor([1, 1, 12, 9, 8, 2, 11], dtype=torch.float32).unsqueeze(1)  # shape (6, 1)\n",
    "a /= a.max()\n",
    "# cls = torch.randn(a.shape[-1]).unsqueeze(-1)\n",
    "cls = torch.randn(2, 2)\n",
    "a = torch.cat((cls, a), dim=0)\n",
    "dk = a.shape[-1]\n",
    "qk = torch.matmul(a, a.T) / dk  # shape (6, 6)\n",
    "weight = torch.softmax(qk, dim=-1)\n",
    "out = torch.matmul(weight, a)\n",
    "print(a)"
   ],
   "id": "333f4d63550fbb",
   "outputs": [],
   "execution_count": null
  },
  {
   "metadata": {},
   "cell_type": "code",
   "source": "print(qk)",
   "id": "dd77628943a6da88",
   "outputs": [],
   "execution_count": null
  },
  {
   "metadata": {},
   "cell_type": "code",
   "source": "print(weight)",
   "id": "3f8e13d2a91cb7a2",
   "outputs": [],
   "execution_count": null
  },
  {
   "metadata": {},
   "cell_type": "code",
   "source": [
    "\n",
    "print(out)"
   ],
   "id": "edfb3fce7a8f2ce3",
   "outputs": [],
   "execution_count": null
  },
  {
   "metadata": {},
   "cell_type": "code",
   "source": [
    "import pandas as pd\n",
    "import numpy as np\n",
    "df = pd.read_excel('./datasets/lottery/pl3_desc.xls', header=1)\n",
    "timestamps = pd.to_datetime(df['开奖日期'])\n",
    "timestamps = np.array([[ts.year, ts.month, ts.day, ts.weekday()] for ts in timestamps])\n",
    "x = np.array(df['号']).reshape(-1, 1)\n",
    "# timestamps\n",
    "x = np.concatenate((timestamps, x), axis=-1)\n",
    "df"
   ],
   "id": "948aba962b9938a6",
   "outputs": [],
   "execution_count": null
  },
  {
   "metadata": {},
   "cell_type": "code",
   "source": "",
   "id": "e5d1c64c2b9d5f93",
   "outputs": [],
   "execution_count": null
  },
  {
   "metadata": {},
   "cell_type": "code",
   "source": [
    "from modules.pretrain_timer import Timer\n",
    "import torch\n",
    "from utils.exp_config import get_config\n",
    "config = get_config()\n",
    "config.patch_len = 96\n",
    "config.d_model = 1024\n",
    "config.d_ff = 2048\n",
    "config.e_layers = 8\n",
    "config.n_heads = 8\n",
    "config.dropout = 0.10\n",
    "config.factor = 1\n",
    "config.output_attention = 1\n",
    "config.activation = 'gelu'\n",
    "config.ckpt_path = 'Timer_forecast_1.0.ckpt'\n",
    "backbone = Timer(config)\n",
    "ckpt_path = 'Timer_forecast_1.0.ckpt'\n",
    "sd = torch.load(ckpt_path, weights_only=False, map_location=\"cpu\")[\"state_dict\"]\n",
    "sd = {k[6:]: v for k, v in sd.items()}\n",
    "backbone.load_state_dict(sd, strict=True)"
   ],
   "id": "644a7f113fc2a190",
   "outputs": [],
   "execution_count": null
  },
  {
   "metadata": {},
   "cell_type": "code",
   "source": "",
   "id": "42c57e88a02587ae",
   "outputs": [],
   "execution_count": null
  },
  {
   "metadata": {},
   "cell_type": "code",
   "source": "",
   "id": "b876ea79267c6392",
   "outputs": [],
   "execution_count": null
  }
 ],
 "metadata": {
  "kernelspec": {
   "display_name": "Python 3",
   "language": "python",
   "name": "python3"
  },
  "language_info": {
   "codemirror_mode": {
    "name": "ipython",
    "version": 2
   },
   "file_extension": ".py",
   "mimetype": "text/x-python",
   "name": "python",
   "nbconvert_exporter": "python",
   "pygments_lexer": "ipython2",
   "version": "2.7.6"
  }
 },
 "nbformat": 4,
 "nbformat_minor": 5
}
