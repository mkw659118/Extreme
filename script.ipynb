{
 "cells": [
  {
   "metadata": {
    "ExecuteTime": {
     "end_time": "2025-03-17T14:11:34.932605Z",
     "start_time": "2025-03-17T14:11:34.928763Z"
    }
   },
   "cell_type": "code",
   "source": [
    "\n",
    "import os \n",
    "len(os.listdir('./datasets/financial'))"
   ],
   "id": "13b403a991ed9604",
   "outputs": [
    {
     "data": {
      "text/plain": [
       "12019"
      ]
     },
     "execution_count": 2,
     "metadata": {},
     "output_type": "execute_result"
    }
   ],
   "execution_count": 2
  },
  {
   "metadata": {
    "ExecuteTime": {
     "end_time": "2025-03-17T02:26:52.784588Z",
     "start_time": "2025-03-17T02:26:52.765051Z"
    }
   },
   "cell_type": "code",
   "source": [
    "from sklearn.preprocessing import StandardScaler\n",
    "\n",
    "from main import Model, get_experiment_name\n",
    "from utils.utils import set_seed\n",
    "# Experiment Settings, logger, plotter\n",
    "from utils.exp_config import get_config\n",
    "config = get_config()\n",
    "from utils.exp_logger import Logger\n",
    "from utils.exp_metrics_plotter import MetricsPlotter\n",
    "from utils.utils import set_settings\n",
    "set_settings(config)\n",
    "log_filename = get_experiment_name(config)\n",
    "plotter = MetricsPlotter(log_filename, config)\n",
    "log = Logger(log_filename, plotter, config)\n",
    "# Set seed of this round\n",
    "set_seed(config.seed + 0)\n",
    "\n",
    "# Initialize the data and the model\n",
    "from data_center import DataModule"
   ],
   "id": "92366f7f25602f19",
   "outputs": [
    {
     "name": "stdout",
     "output_type": "stream",
     "text": [
      "Deleted './results/ours/20250317/log/10_25_43_Model_ours_Dataset_financial_R64.md' as it had less than 15 lines.\n",
      "\u001B[1;38;2;151;200;129m|2025-03-17 10:26:52| \u001B[0m\u001B[1m{\n",
      "     'ablation': 0, 'att_method': self, 'bs': 32, 'classification': False,\n",
      "     'continue_train': False, 'data_scaler': False, 'dataset': financial, 'debug': False,\n",
      "     'decay': 0.0001, 'density': 0.7, 'device': cpu, 'epochs': 200,\n",
      "     'eval_set': True, 'ffn_method': moe, 'hyper_search': False, 'idx': 0,\n",
      "     'log': <utils.exp_logger.Logger object at 0x34c84f560>, 'logger': None, 'loss_func': L1Loss, 'lr': 0.001,\n",
      "     'model': ours, 'multi_dataset': True, 'norm_method': rms, 'num_layers': 12,\n",
      "     'optim': AdamW, 'path': ./datasets/, 'patience': 50, 'pred_len': 96,\n",
      "     'rank': 64, 'record': True, 'retrain': True, 'rounds': 1,\n",
      "     'seed': 0, 'seq_len': 96, 'shuffle': False, 'train_size': 500,\n",
      "     'try_exp': 1, 'ts_var': 0, 'verbose': 10,\n",
      "}\u001B[0m\n"
     ]
    }
   ],
   "execution_count": 18
  },
  {
   "metadata": {
    "ExecuteTime": {
     "end_time": "2025-03-27T15:41:26.677968Z",
     "start_time": "2025-03-27T15:41:25.753162Z"
    }
   },
   "cell_type": "code",
   "source": [
    "from modules.load_data.get_financial import get_financial_data, get_data\n",
    "import numpy as np \n",
    "data = get_data(0)\n",
    "data.shape"
   ],
   "id": "eb98e87ed81517e2",
   "outputs": [
    {
     "ename": "ImportError",
     "evalue": "cannot import name 'get_financial_data' from partially initialized module 'modules.load_data.get_financial' (most likely due to a circular import) (/Users/zengyuxiang/Documents/科研代码/Master/TimeSeries/modules/load_data/get_financial.py)",
     "output_type": "error",
     "traceback": [
      "\u001B[0;31m---------------------------------------------------------------------------\u001B[0m",
      "\u001B[0;31mImportError\u001B[0m                               Traceback (most recent call last)",
      "Cell \u001B[0;32mIn[1], line 1\u001B[0m\n\u001B[0;32m----> 1\u001B[0m \u001B[38;5;28;01mfrom\u001B[39;00m \u001B[38;5;21;01mmodules\u001B[39;00m\u001B[38;5;21;01m.\u001B[39;00m\u001B[38;5;21;01mload_data\u001B[39;00m\u001B[38;5;21;01m.\u001B[39;00m\u001B[38;5;21;01mget_financial\u001B[39;00m \u001B[38;5;28;01mimport\u001B[39;00m get_financial_data, get_data\n\u001B[1;32m      2\u001B[0m \u001B[38;5;28;01mimport\u001B[39;00m \u001B[38;5;21;01mnumpy\u001B[39;00m \u001B[38;5;28;01mas\u001B[39;00m \u001B[38;5;21;01mnp\u001B[39;00m \n\u001B[1;32m      3\u001B[0m data \u001B[38;5;241m=\u001B[39m get_data(\u001B[38;5;241m0\u001B[39m)\n",
      "File \u001B[0;32m~/Documents/科研代码/Master/TimeSeries/modules/load_data/get_financial.py:10\u001B[0m\n\u001B[1;32m      7\u001B[0m \u001B[38;5;28;01mimport\u001B[39;00m \u001B[38;5;21;01mpickle\u001B[39;00m\n\u001B[1;32m      8\u001B[0m \u001B[38;5;28;01mfrom\u001B[39;00m \u001B[38;5;21;01msqlalchemy\u001B[39;00m \u001B[38;5;28;01mimport\u001B[39;00m create_engine, text\n\u001B[0;32m---> 10\u001B[0m \u001B[38;5;28;01mimport\u001B[39;00m \u001B[38;5;21;01mdata_center\u001B[39;00m\n\u001B[1;32m     11\u001B[0m \u001B[38;5;28;01mfrom\u001B[39;00m \u001B[38;5;21;01mmodules\u001B[39;00m\u001B[38;5;21;01m.\u001B[39;00m\u001B[38;5;21;01mload_data\u001B[39;00m\u001B[38;5;21;01m.\u001B[39;00m\u001B[38;5;21;01mcreate_window_dataset\u001B[39;00m \u001B[38;5;28;01mimport\u001B[39;00m create_window_dataset\n\u001B[1;32m     14\u001B[0m \u001B[38;5;28;01mdef\u001B[39;00m \u001B[38;5;21mget_data\u001B[39m(code_idx):\n",
      "File \u001B[0;32m~/Documents/科研代码/Master/TimeSeries/data_center.py:5\u001B[0m\n\u001B[1;32m      3\u001B[0m \u001B[38;5;28;01mimport\u001B[39;00m \u001B[38;5;21;01mnumpy\u001B[39;00m \u001B[38;5;28;01mas\u001B[39;00m \u001B[38;5;21;01mnp\u001B[39;00m\n\u001B[1;32m      4\u001B[0m \u001B[38;5;28;01mfrom\u001B[39;00m \u001B[38;5;21;01mdata_dataset\u001B[39;00m \u001B[38;5;28;01mimport\u001B[39;00m TensorDataset\n\u001B[0;32m----> 5\u001B[0m \u001B[38;5;28;01mfrom\u001B[39;00m \u001B[38;5;21;01mmodules\u001B[39;00m\u001B[38;5;21;01m.\u001B[39;00m\u001B[38;5;21;01mload_data\u001B[39;00m\u001B[38;5;21;01m.\u001B[39;00m\u001B[38;5;21;01mget_financial\u001B[39;00m \u001B[38;5;28;01mimport\u001B[39;00m get_financial_data, multi_dataset\n\u001B[1;32m      6\u001B[0m \u001B[38;5;28;01mfrom\u001B[39;00m \u001B[38;5;21;01mmodules\u001B[39;00m\u001B[38;5;21;01m.\u001B[39;00m\u001B[38;5;21;01mload_data\u001B[39;00m\u001B[38;5;21;01m.\u001B[39;00m\u001B[38;5;21;01mget_ts\u001B[39;00m \u001B[38;5;28;01mimport\u001B[39;00m get_ts\n\u001B[1;32m      7\u001B[0m \u001B[38;5;28;01mfrom\u001B[39;00m \u001B[38;5;21;01mutils\u001B[39;00m\u001B[38;5;21;01m.\u001B[39;00m\u001B[38;5;21;01mdata_dataloader\u001B[39;00m \u001B[38;5;28;01mimport\u001B[39;00m get_dataloaders\n",
      "\u001B[0;31mImportError\u001B[0m: cannot import name 'get_financial_data' from partially initialized module 'modules.load_data.get_financial' (most likely due to a circular import) (/Users/zengyuxiang/Documents/科研代码/Master/TimeSeries/modules/load_data/get_financial.py)"
     ]
    }
   ],
   "execution_count": 1
  },
  {
   "metadata": {
    "ExecuteTime": {
     "end_time": "2025-03-17T02:26:50.975241Z",
     "start_time": "2025-03-17T02:26:50.974004Z"
    }
   },
   "cell_type": "code",
   "source": "",
   "id": "31b9e76dc577672f",
   "outputs": [],
   "execution_count": null
  },
  {
   "metadata": {
    "ExecuteTime": {
     "end_time": "2025-03-17T02:11:19.869298Z",
     "start_time": "2025-03-17T02:11:19.865938Z"
    }
   },
   "cell_type": "code",
   "source": "",
   "id": "2d10b8f8729aad3d",
   "outputs": [
    {
     "data": {
      "text/plain": [
       "(55230, 96, 6)"
      ]
     },
     "execution_count": 11,
     "metadata": {},
     "output_type": "execute_result"
    }
   ],
   "execution_count": 11
  },
  {
   "metadata": {
    "ExecuteTime": {
     "end_time": "2025-03-17T01:37:11.964660Z",
     "start_time": "2025-03-17T01:37:11.963174Z"
    }
   },
   "cell_type": "code",
   "source": "",
   "id": "9042099162bac830",
   "outputs": [],
   "execution_count": null
  }
 ],
 "metadata": {
  "kernelspec": {
   "display_name": "Python 3",
   "language": "python",
   "name": "python3"
  },
  "language_info": {
   "codemirror_mode": {
    "name": "ipython",
    "version": 2
   },
   "file_extension": ".py",
   "mimetype": "text/x-python",
   "name": "python",
   "nbconvert_exporter": "python",
   "pygments_lexer": "ipython2",
   "version": "2.7.6"
  }
 },
 "nbformat": 4,
 "nbformat_minor": 5
}
