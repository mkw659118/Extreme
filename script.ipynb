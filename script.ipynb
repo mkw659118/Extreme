{
 "cells": [
  {
   "cell_type": "code",
   "execution_count": null,
   "id": "fabbb56d",
   "metadata": {},
   "outputs": [],
   "source": []
  },
  {
   "cell_type": "code",
   "execution_count": null,
   "id": "42c57e88a02587ae",
   "metadata": {
    "ExecuteTime": {
     "end_time": "2025-05-14T07:14:22.195421477Z",
     "start_time": "2025-05-14T05:39:11.932833Z"
    }
   },
   "outputs": [],
   "source": [
    "from data_provider.data_loader import DataModule\n",
    "from exp.exp_model import Model\n",
    "from utils.exp_logger import Logger\n",
    "from utils.exp_metrics_plotter import MetricsPlotter\n",
    "from run_train import get_experiment_name\n",
    "from utils.utils import set_settings\n",
    "# Experiment Settings, logger, plotter\n",
    "from utils.exp_config import get_config\n",
    "config = get_config('FinancialConfig')\n",
    "config.multi_dataset = True\n",
    "set_settings(config)\n",
    "log_filename, exper_detail = get_experiment_name(config)\n",
    "plotter = MetricsPlotter(log_filename, config)\n",
    "log = Logger(log_filename, exper_detail, plotter, config)\n",
    "datamodule = DataModule(config)\n",
    "model = Model(config)"
   ]
  },
  {
   "cell_type": "code",
   "execution_count": null,
   "id": "36e74961",
   "metadata": {},
   "outputs": [],
   "source": []
  },
  {
   "cell_type": "code",
   "execution_count": null,
   "id": "83d067d4d4b3419b",
   "metadata": {
    "ExecuteTime": {
     "end_time": "2025-05-14T07:39:54.525191Z",
     "start_time": "2025-05-14T07:39:54.497395Z"
    }
   },
   "outputs": [],
   "source": [
    "import torch\n",
    "import torch.nn as nn\n",
    "\n",
    "# 假设输入\n",
    "bs, seq_len, channels, dim = 16, 48, 33, 64\n",
    "x_enc = torch.randn(bs, seq_len, channels, dim)\n",
    "\n",
    "# 定义 attention 层（无 batch_first 参数）\n",
    "attn_channel = nn.MultiheadAttention(embed_dim=dim, num_heads=8)  # expects (seq_len, batch, dim)\n",
    "attn_time = nn.MultiheadAttention(embed_dim=dim, num_heads=8)\n",
    "\n",
    "# ===== 1. 跨通道 attention =====\n",
    "# 原始 x_enc: (bs, 48, 33, 64)\n",
    "# 调整为 (33, bs*48, 64)\n",
    "x_enc_reshaped = x_enc.permute(2, 0, 1, 3).reshape(channels, bs * seq_len, dim)\n",
    "\n",
    "# 注意力：通道之间的 self-attention\n",
    "x_channel_attn, _ = attn_channel(x_enc_reshaped, x_enc_reshaped, x_enc_reshaped)  # (33, bs*48, 64)\n",
    "\n",
    "# 还原为 (bs, 48, 33, 64)\n",
    "x_channel_attn = x_channel_attn.reshape(channels, bs, seq_len, dim).permute(1, 2, 0, 3)\n",
    "\n",
    "# ===== 2. 跨时间 attention =====\n",
    "# 调整为 (48, bs*33, 64)\n",
    "x_time_input = x_channel_attn.permute(1, 0, 2, 3).reshape(seq_len, bs * channels, dim)\n",
    "\n",
    "# 注意力：时间步之间的 self-attention\n",
    "x_time_attn, _ = attn_time(x_time_input, x_time_input, x_time_input)  # (48, bs*33, 64)\n",
    "\n",
    "# 还原为 (bs, 48, 33, 64)\n",
    "x_time_attn = x_time_attn.reshape(seq_len, bs, channels, dim).permute(1, 0, 2, 3)\n",
    "\n",
    "# 最终输出\n",
    "print(x_time_attn.shape)  # torch.Size([16, 48, 33, 64])\n"
   ]
  },
  {
   "cell_type": "code",
   "execution_count": null,
   "id": "34b77a8a50c3e4d3",
   "metadata": {
    "ExecuteTime": {
     "end_time": "2025-05-15T08:54:42.394091Z",
     "start_time": "2025-05-15T08:54:42.206443Z"
    }
   },
   "outputs": [],
   "source": [
    "from modules.backbone import Backbone\n",
    "from run_train import *\n",
    "\n",
    "from utils.exp_config import get_config\n",
    "config = get_config()\n",
    "# datamodule = DataModule(config)\n",
    "# model = Model(datamodule, config)\n",
    "model = Backbone(3, config)"
   ]
  },
  {
   "cell_type": "code",
   "execution_count": null,
   "id": "e0cc9844e24299a6",
   "metadata": {
    "ExecuteTime": {
     "end_time": "2025-05-15T08:54:44.753971Z",
     "start_time": "2025-05-15T08:54:44.746305Z"
    }
   },
   "outputs": [],
   "source": [
    "bs, seq_len, channels, dim = 1, 48, 33, 3\n",
    "random_inputs = torch.rand(bs, seq_len, channels, dim)\n",
    "y = model(random_inputs, None, None)\n",
    "# [1, 48, 32, 3]"
   ]
  },
  {
   "cell_type": "code",
   "execution_count": null,
   "id": "a1df9f4965779f7c",
   "metadata": {
    "ExecuteTime": {
     "end_time": "2025-05-15T08:55:06.532773Z",
     "start_time": "2025-05-15T08:55:06.526640Z"
    }
   },
   "outputs": [],
   "source": [
    "bs, seq_len, channels, dim = 1, 48, 1, 3\n",
    "random_inputs = torch.rand(bs, seq_len, channels, dim)\n",
    "y = model(random_inputs, None, None)\n",
    "# [1, 48, 32, 3]"
   ]
  },
  {
   "cell_type": "code",
   "execution_count": null,
   "id": "ddb1fd89c0e320dc",
   "metadata": {
    "ExecuteTime": {
     "end_time": "2025-05-15T07:27:41.716108Z",
     "start_time": "2025-05-15T07:27:41.708539Z"
    }
   },
   "outputs": [],
   "source": [
    "bs, seq_len, channels, dim = 1, 48, 16, 3\n",
    "random_inputs = torch.rand(bs, seq_len, channels, dim)\n",
    "y = model(random_inputs, None, None)\n",
    "# [1, 48, 32, 3]"
   ]
  },
  {
   "cell_type": "code",
   "execution_count": null,
   "id": "17d341a7",
   "metadata": {},
   "outputs": [],
   "source": [
    "import torch\n",
    "\n",
    "x = torch.arange(2*3*4*10).reshape(2, 3, 4, 10)\n",
    "patch_len = 4\n",
    "stride = 2\n",
    "\n",
    "x_unfolded = x.unfold(dimension=-1, size=patch_len, step=stride)\n",
    "print(x_unfolded.shape)"
   ]
  },
  {
   "cell_type": "code",
   "execution_count": null,
   "id": "7057217c",
   "metadata": {},
   "outputs": [],
   "source": [
    "import os\n",
    "\n",
    "# 读取所有文件名\n",
    "all_files = os.listdir('results/financial/20250701/log')\n",
    "\n",
    "# 提取每个文件中 _Multi_ 与 .md 之间的数字\n",
    "existing_ids = set()\n",
    "for filename in all_files:\n",
    "    try:\n",
    "        num = int(filename.split('_Multi_')[1].split('.md')[0])\n",
    "        existing_ids.add(num)\n",
    "    except (IndexError, ValueError):\n",
    "        continue\n",
    "\n",
    "# 检查 1-130 中缺失的编号\n",
    "missing_ids = [i for i in range(0, 150) if i not in existing_ids]\n",
    "\n",
    "print(\"缺失的编号：\", missing_ids)"
   ]
  },
  {
   "cell_type": "code",
   "execution_count": null,
   "id": "0270da75",
   "metadata": {},
   "outputs": [],
   "source": [
    "import pickle \n",
    "from collections import Counter\n",
    "data = pickle.load(open('./datasets/func_code_to_label_150.pkl', 'rb'))\n",
    "# 提取组号列\n",
    "group_ids = data[:, 1]\n",
    "\n",
    "# 统计每个组号的基金数量\n",
    "counts = Counter(group_ids)\n",
    "\n",
    "# 打印结果\n",
    "for group_id, count in sorted(counts.items()):\n",
    "    print(f\"组号 {group_id} 中有 {count} 个基金\")"
   ]
  },
  {
   "cell_type": "code",
   "execution_count": null,
   "id": "4fa2853e",
   "metadata": {},
   "outputs": [],
   "source": [
    "import os \n",
    "import pickle\n",
    "all_code = os.listdir('./datasets/financial/S20200713_E20250628')\n",
    "all_code_len = []\n",
    "for code in all_code:\n",
    "    if code.endswith('.pkl'):\n",
    "        with open(os.path.join('./datasets/financial/S20200713_E20250628', code), 'rb') as f:\n",
    "            data = pickle.load(f)\n",
    "            all_code_len.append(len(data))"
   ]
  },
  {
   "cell_type": "code",
   "execution_count": null,
   "id": "9385d47a",
   "metadata": {},
   "outputs": [],
   "source": [
    "import numpy as np\n",
    "\n",
    "# 假设你已经有 all_code_len\n",
    "all_code_len = np.array(all_code_len)\n",
    "\n",
    "print(f\"📊 总文件数: {len(all_code_len)}\")\n",
    "print(f\"📈 最大长度: {np.max(all_code_len)}\")\n",
    "print(f\"📉 最小长度: {np.min(all_code_len)}\")\n",
    "print(f\"📏 平均长度: {np.mean(all_code_len):.2f}\")\n",
    "print(f\"📐 中位数: {np.median(all_code_len)}\")\n",
    "print(f\"🔹 5%分位数: {np.percentile(all_code_len, 5)}\")\n",
    "print(f\"🔹 6%分位数: {np.percentile(all_code_len, 6)}\")\n",
    "print(f\"🔹 10%分位数: {np.percentile(all_code_len, 10)}\")\n",
    "print(f\"🔹 25%分位数: {np.percentile(all_code_len, 25)}\")\n",
    "print(f\"🔸 75%分位数: {np.percentile(all_code_len, 75)}\")"
   ]
  },
  {
   "cell_type": "code",
   "execution_count": null,
   "id": "5cc52bd9",
   "metadata": {},
   "outputs": [],
   "source": [
    "import pandas as pd\n",
    "from sqlalchemy import create_engine, text\n",
    "import pickle\n",
    "# 数据库配置\n",
    "with open('./datasets/sql_token.pkl', 'rb') as f:\n",
    "    DB_URI = pickle.load(f)\n",
    "engine = create_engine(DB_URI)\n",
    "\n",
    "def query_fund_data(fund, start_date, end_date):\n",
    "    \"\"\"查询数据库中某支基金的净值数据\n",
    "        SELECT fund_code, date, nav, accnav, adj_nav\n",
    "    \"\"\"\n",
    "    sql = text(\"\"\"\n",
    "        SELECT fund_code, date, accnav, adj_nav, nav\n",
    "        FROM b_fund_nav_details_new\n",
    "        WHERE fund_code IN :codes\n",
    "          AND date BETWEEN :start AND :end\n",
    "        ORDER BY date\n",
    "    \"\"\")\n",
    "    try:\n",
    "        df = pd.read_sql_query(\n",
    "            sql.bindparams(codes=tuple(fund), start=start_date, end=end_date),\n",
    "            engine\n",
    "        )\n",
    "        fund_dict = {code: df_group.reset_index(drop=True)\n",
    "                     for code, df_group in df.groupby(\"fund_code\")}\n",
    "        return fund_dict\n",
    "    except Exception as e:\n",
    "        print(f\"[{fund}] 数据库查询失败: {str(e)}\")\n",
    "        return pd.DataFrame()\n",
    "df = query_fund_data(['000001', '000003'], '2020-01-01', '2025-01-01')\n",
    "    "
   ]
  },
  {
   "cell_type": "code",
   "execution_count": 54,
   "id": "6ed66ccd",
   "metadata": {},
   "outputs": [],
   "source": [
    "import numpy as np \n",
    "with open('./datasets/func_code_to_label_150.pkl', 'rb') as f:\n",
    "    data = pickle.load(f)\n",
    "data = data[:, 0]\n",
    "df = query_fund_data(data, '2020-01-01', '2025-01-01')"
   ]
  },
  {
   "cell_type": "code",
   "execution_count": 57,
   "id": "f3a5fb8c",
   "metadata": {},
   "outputs": [
    {
     "name": "stdout",
     "output_type": "stream",
     "text": [
      "最小值: 0.0871, 最大值: 141.426\n"
     ]
    }
   ],
   "source": [
    "min_value, max_value = 1e9, -1e9\n",
    "for fund_code, value in df.items():\n",
    "    min_value = min(min_value, value['nav'].min())\n",
    "    max_value = max(max_value, value['nav'].max())\n",
    "print(f\"最小值: {min_value}, 最大值: {max_value}\")"
   ]
  },
  {
   "cell_type": "code",
   "execution_count": 53,
   "id": "fad1c552",
   "metadata": {},
   "outputs": [
    {
     "data": {
      "text/plain": [
       "'970135'"
      ]
     },
     "execution_count": 53,
     "metadata": {},
     "output_type": "execute_result"
    }
   ],
   "source": [
    "df"
   ]
  },
  {
   "cell_type": "code",
   "execution_count": null,
   "id": "791128b1",
   "metadata": {},
   "outputs": [],
   "source": []
  }
 ],
 "metadata": {
  "kernelspec": {
   "display_name": "base",
   "language": "python",
   "name": "python3"
  },
  "language_info": {
   "codemirror_mode": {
    "name": "ipython",
    "version": 3
   },
   "file_extension": ".py",
   "mimetype": "text/x-python",
   "name": "python",
   "nbconvert_exporter": "python",
   "pygments_lexer": "ipython3",
   "version": "3.12.4"
  }
 },
 "nbformat": 4,
 "nbformat_minor": 5
}
