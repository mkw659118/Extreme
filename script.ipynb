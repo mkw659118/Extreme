{
 "cells": [
  {
   "cell_type": "code",
   "execution_count": 18,
   "id": "fabbb56d",
   "metadata": {},
   "outputs": [],
   "source": []
  },
  {
   "cell_type": "code",
   "execution_count": 1,
   "id": "42c57e88a02587ae",
   "metadata": {
    "ExecuteTime": {
     "end_time": "2025-05-14T07:14:22.195421477Z",
     "start_time": "2025-05-14T05:39:11.932833Z"
    }
   },
   "outputs": [
    {
     "name": "stdout",
     "output_type": "stream",
     "text": [
      "<module 'module.name' from '/home/rtx4090/code/python/当前任务/TimeSeries/configs/FinancialConfig.py'> FinancialConfig\n",
      "\u001b[1;38;2;151;200;129m|2025-06-30 16:26:06| \u001b[0m\u001b[1m{\n",
      "     'ablation': 0, 'att_method': self, 'bs': 128\n",
      "     'classification': False, 'continue_train': False, 'd_model': 56\n",
      "     'dataset': financial, 'debug': False, 'decay': 0.0001\n",
      "     'density': 0.7, 'device': cuda, 'dis_method': cosine\n",
      "     'end_date': 2025-06-28, 'epochs': 200, 'eval_set': True\n",
      "     'f': /run/user/1000/jupyter/runtime/kernel-v38fbae73c7d38207ed1df08da9eebce9d93b108c8.json, 'ffn_method': ffn, 'fft': False\n",
      "     'hyper_search': False, 'idx': 0, 'input_size': 3\n",
      "     'log': <utils.exp_logger.Logger object at 0x781fd065ad50>, 'logger': zyx, 'loss_func': MSELoss\n",
      "     'lr': 0.001, 'model': financial, 'monitor_metric': MAE\n",
      "     'multi_dataset': True, 'norm_method': rms, 'num_layers': 2\n",
      "     'optim': AdamW, 'path': ./datasets/, 'patience': 45\n",
      "     'pred_len': 7, 'rank': 40, 'record': True\n",
      "     'retrain': True, 'revin': True, 'rounds': 1\n",
      "     'scaler_method': global, 'seed': 0, 'seq_len': 16\n",
      "     'shuffle': False, 'spliter_ratio': 7:1:2, 'start_date': 2020-07-13\n",
      "     'train_size': 500, 'try_exp': 1, 'ts_var': 1\n",
      "     'use_amp': False, 'use_train_size': False, 'verbose': 5\n",
      "}\u001b[0m\n"
     ]
    },
    {
     "name": "stderr",
     "output_type": "stream",
     "text": [
      "SQL:   3%|▎         | 2/70 [00:01<00:34,  1.98it/s]"
     ]
    },
    {
     "name": "stdout",
     "output_type": "stream",
     "text": [
      "519959 -- len = 1224, now min_length = 1000000000.0\n",
      "004774 -- len = 1224, now min_length = 1224\n"
     ]
    },
    {
     "name": "stderr",
     "output_type": "stream",
     "text": [
      "SQL:   6%|▌         | 4/70 [00:01<00:18,  3.64it/s]"
     ]
    },
    {
     "name": "stdout",
     "output_type": "stream",
     "text": [
      "011898 -- len = 959, now min_length = 1224\n",
      "006867 -- len = 1224, now min_length = 959\n"
     ]
    },
    {
     "name": "stderr",
     "output_type": "stream",
     "text": [
      "SQL:   9%|▊         | 6/70 [00:01<00:12,  4.94it/s]"
     ]
    },
    {
     "name": "stdout",
     "output_type": "stream",
     "text": [
      "700003 -- len = 1224, now min_length = 959\n",
      "516620 -- len = 904, now min_length = 959\n"
     ]
    },
    {
     "name": "stderr",
     "output_type": "stream",
     "text": [
      "SQL:  11%|█▏        | 8/70 [00:02<00:10,  5.74it/s]"
     ]
    },
    {
     "name": "stdout",
     "output_type": "stream",
     "text": [
      "004401 -- len = 1225, now min_length = 904\n",
      "009827 -- len = 1170, now min_length = 904\n"
     ]
    },
    {
     "name": "stderr",
     "output_type": "stream",
     "text": [
      "SQL:  14%|█▍        | 10/70 [00:02<00:08,  6.79it/s]"
     ]
    },
    {
     "name": "stdout",
     "output_type": "stream",
     "text": [
      "511180 -- len = 1201, now min_length = 904\n",
      "010045 -- len = 1137, now min_length = 904\n"
     ]
    },
    {
     "name": "stderr",
     "output_type": "stream",
     "text": [
      "SQL:  17%|█▋        | 12/70 [00:02<00:08,  7.22it/s]"
     ]
    },
    {
     "name": "stdout",
     "output_type": "stream",
     "text": [
      "159855 -- len = 1073, now min_length = 904\n",
      "009903 -- len = 1058, now min_length = 904\n"
     ]
    },
    {
     "name": "stderr",
     "output_type": "stream",
     "text": [
      "SQL:  20%|██        | 14/70 [00:02<00:07,  7.28it/s]"
     ]
    },
    {
     "name": "stdout",
     "output_type": "stream",
     "text": [
      "004828 -- len = 1225, now min_length = 904\n",
      "006148 -- len = 1224, now min_length = 904\n"
     ]
    },
    {
     "name": "stderr",
     "output_type": "stream",
     "text": [
      "SQL:  23%|██▎       | 16/70 [00:03<00:07,  7.54it/s]"
     ]
    },
    {
     "name": "stdout",
     "output_type": "stream",
     "text": [
      "012822 -- len = 749, now min_length = 904\n",
      "519733 -- len = 1224, now min_length = 749\n"
     ]
    },
    {
     "name": "stderr",
     "output_type": "stream",
     "text": [
      "SQL:  26%|██▌       | 18/70 [00:03<00:06,  7.76it/s]"
     ]
    },
    {
     "name": "stdout",
     "output_type": "stream",
     "text": [
      "015126 -- len = 613, now min_length = 749\n",
      "000997 -- len = 1224, now min_length = 613\n"
     ]
    },
    {
     "name": "stderr",
     "output_type": "stream",
     "text": [
      "SQL:  29%|██▊       | 20/70 [00:03<00:06,  7.88it/s]"
     ]
    },
    {
     "name": "stdout",
     "output_type": "stream",
     "text": [
      "004428 -- len = 1224, now min_length = 613\n",
      "002901 -- len = 1224, now min_length = 613\n"
     ]
    },
    {
     "name": "stderr",
     "output_type": "stream",
     "text": [
      "SQL:  31%|███▏      | 22/70 [00:03<00:06,  7.98it/s]"
     ]
    },
    {
     "name": "stdout",
     "output_type": "stream",
     "text": [
      "008557 -- len = 1224, now min_length = 613\n",
      "003360 -- len = 1224, now min_length = 613\n"
     ]
    },
    {
     "name": "stderr",
     "output_type": "stream",
     "text": [
      "SQL:  34%|███▍      | 24/70 [00:04<00:05,  8.10it/s]"
     ]
    },
    {
     "name": "stdout",
     "output_type": "stream",
     "text": [
      "011989 -- len = 922, now min_length = 613\n",
      "004564 -- len = 1224, now min_length = 613\n"
     ]
    },
    {
     "name": "stderr",
     "output_type": "stream",
     "text": [
      "SQL:  37%|███▋      | 26/70 [00:04<00:05,  7.72it/s]"
     ]
    },
    {
     "name": "stdout",
     "output_type": "stream",
     "text": [
      "012821 -- len = 749, now min_length = 613\n",
      "202103 -- len = 1224, now min_length = 613\n"
     ]
    },
    {
     "name": "stderr",
     "output_type": "stream",
     "text": [
      "SQL:  40%|████      | 28/70 [00:04<00:05,  7.51it/s]"
     ]
    },
    {
     "name": "stdout",
     "output_type": "stream",
     "text": [
      "009096 -- len = 1224, now min_length = 613\n",
      "014904 -- len = 638, now min_length = 613\n"
     ]
    },
    {
     "name": "stderr",
     "output_type": "stream",
     "text": [
      "SQL:  43%|████▎     | 30/70 [00:04<00:05,  7.58it/s]"
     ]
    },
    {
     "name": "stdout",
     "output_type": "stream",
     "text": [
      "014160 -- len = 697, now min_length = 613\n",
      "200113 -- len = 1224, now min_length = 613\n"
     ]
    },
    {
     "name": "stderr",
     "output_type": "stream",
     "text": [
      "SQL:  46%|████▌     | 32/70 [00:05<00:04,  7.68it/s]"
     ]
    },
    {
     "name": "stdout",
     "output_type": "stream",
     "text": [
      "011897 -- len = 959, now min_length = 613\n",
      "005193 -- len = 1224, now min_length = 613\n"
     ]
    },
    {
     "name": "stderr",
     "output_type": "stream",
     "text": [
      "SQL:  49%|████▊     | 34/70 [00:05<00:04,  7.61it/s]"
     ]
    },
    {
     "name": "stdout",
     "output_type": "stream",
     "text": [
      "005492 -- len = 1224, now min_length = 613\n",
      "000998 -- len = 1224, now min_length = 613\n"
     ]
    },
    {
     "name": "stderr",
     "output_type": "stream",
     "text": [
      "SQL:  51%|█████▏    | 36/70 [00:05<00:04,  7.62it/s]"
     ]
    },
    {
     "name": "stdout",
     "output_type": "stream",
     "text": [
      "167002 -- len = 1224, now min_length = 613\n",
      "000081 -- len = 1224, now min_length = 613\n"
     ]
    },
    {
     "name": "stderr",
     "output_type": "stream",
     "text": [
      "SQL:  54%|█████▍    | 38/70 [00:05<00:04,  7.53it/s]"
     ]
    },
    {
     "name": "stdout",
     "output_type": "stream",
     "text": [
      "003282 -- len = 1224, now min_length = 613\n",
      "015125 -- len = 613, now min_length = 613\n"
     ]
    },
    {
     "name": "stderr",
     "output_type": "stream",
     "text": [
      "SQL:  57%|█████▋    | 40/70 [00:06<00:03,  7.65it/s]"
     ]
    },
    {
     "name": "stdout",
     "output_type": "stream",
     "text": [
      "006851 -- len = 1224, now min_length = 613\n",
      "014900 -- len = 718, now min_length = 613\n"
     ]
    },
    {
     "name": "stderr",
     "output_type": "stream",
     "text": [
      "SQL:  60%|██████    | 42/70 [00:06<00:03,  7.68it/s]"
     ]
    },
    {
     "name": "stdout",
     "output_type": "stream",
     "text": [
      "004222 -- len = 1224, now min_length = 613\n",
      "014905 -- len = 638, now min_length = 613\n"
     ]
    },
    {
     "name": "stderr",
     "output_type": "stream",
     "text": [
      "SQL:  63%|██████▎   | 44/70 [00:06<00:03,  7.95it/s]"
     ]
    },
    {
     "name": "stdout",
     "output_type": "stream",
     "text": [
      "006147 -- len = 1224, now min_length = 613\n",
      "012627 -- len = 944, now min_length = 613\n"
     ]
    },
    {
     "name": "stderr",
     "output_type": "stream",
     "text": [
      "SQL:  66%|██████▌   | 46/70 [00:06<00:03,  7.95it/s]"
     ]
    },
    {
     "name": "stdout",
     "output_type": "stream",
     "text": [
      "000286 -- len = 1229, now min_length = 613\n",
      "011044 -- len = 1067, now min_length = 613\n"
     ]
    },
    {
     "name": "stderr",
     "output_type": "stream",
     "text": [
      "SQL:  69%|██████▊   | 48/70 [00:07<00:02,  7.47it/s]"
     ]
    },
    {
     "name": "stdout",
     "output_type": "stream",
     "text": [
      "009902 -- len = 1058, now min_length = 613\n",
      "004448 -- len = 1224, now min_length = 613\n"
     ]
    },
    {
     "name": "stderr",
     "output_type": "stream",
     "text": [
      "SQL:  71%|███████▏  | 50/70 [00:07<00:02,  7.49it/s]"
     ]
    },
    {
     "name": "stdout",
     "output_type": "stream",
     "text": [
      "006162 -- len = 1224, now min_length = 613\n",
      "011720 -- len = 834, now min_length = 613\n"
     ]
    },
    {
     "name": "stderr",
     "output_type": "stream",
     "text": [
      "SQL:  74%|███████▍  | 52/70 [00:07<00:02,  7.73it/s]"
     ]
    },
    {
     "name": "stdout",
     "output_type": "stream",
     "text": [
      "011573 -- len = 925, now min_length = 613\n",
      "009181 -- len = 1202, now min_length = 613\n"
     ]
    },
    {
     "name": "stderr",
     "output_type": "stream",
     "text": [
      "SQL:  77%|███████▋  | 54/70 [00:08<00:02,  7.80it/s]"
     ]
    },
    {
     "name": "stdout",
     "output_type": "stream",
     "text": [
      "009097 -- len = 1224, now min_length = 613\n",
      "012626 -- len = 944, now min_length = 613\n"
     ]
    },
    {
     "name": "stderr",
     "output_type": "stream",
     "text": [
      "SQL:  80%|████████  | 56/70 [00:08<00:01,  7.93it/s]"
     ]
    },
    {
     "name": "stdout",
     "output_type": "stream",
     "text": [
      "002490 -- len = 1224, now min_length = 613\n",
      "000080 -- len = 1224, now min_length = 613\n"
     ]
    },
    {
     "name": "stderr",
     "output_type": "stream",
     "text": [
      "SQL:  83%|████████▎ | 58/70 [00:08<00:01,  7.94it/s]"
     ]
    },
    {
     "name": "stdout",
     "output_type": "stream",
     "text": [
      "004427 -- len = 1224, now min_length = 613\n",
      "003361 -- len = 1224, now min_length = 613\n"
     ]
    },
    {
     "name": "stderr",
     "output_type": "stream",
     "text": [
      "SQL:  86%|████████▌ | 60/70 [00:08<00:01,  8.07it/s]"
     ]
    },
    {
     "name": "stdout",
     "output_type": "stream",
     "text": [
      "014492 -- len = 801, now min_length = 613\n",
      "014161 -- len = 697, now min_length = 613\n"
     ]
    },
    {
     "name": "stderr",
     "output_type": "stream",
     "text": [
      "SQL:  89%|████████▊ | 62/70 [00:09<00:01,  7.87it/s]"
     ]
    },
    {
     "name": "stdout",
     "output_type": "stream",
     "text": [
      "519731 -- len = 1224, now min_length = 613\n",
      "015774 -- len = 762, now min_length = 613\n"
     ]
    },
    {
     "name": "stderr",
     "output_type": "stream",
     "text": [
      "SQL:  91%|█████████▏| 64/70 [00:09<00:00,  7.97it/s]"
     ]
    },
    {
     "name": "stdout",
     "output_type": "stream",
     "text": [
      "004657 -- len = 1008, now min_length = 613\n",
      "000255 -- len = 1224, now min_length = 613\n"
     ]
    },
    {
     "name": "stderr",
     "output_type": "stream",
     "text": [
      "SQL:  94%|█████████▍| 66/70 [00:09<00:00,  7.88it/s]"
     ]
    },
    {
     "name": "stdout",
     "output_type": "stream",
     "text": [
      "002902 -- len = 1224, now min_length = 613\n",
      "007903 -- len = 1224, now min_length = 613\n"
     ]
    },
    {
     "name": "stderr",
     "output_type": "stream",
     "text": [
      "SQL:  97%|█████████▋| 68/70 [00:09<00:00,  7.76it/s]"
     ]
    },
    {
     "name": "stdout",
     "output_type": "stream",
     "text": [
      "200013 -- len = 1224, now min_length = 613\n",
      "202102 -- len = 1228, now min_length = 613\n"
     ]
    },
    {
     "name": "stderr",
     "output_type": "stream",
     "text": [
      "SQL: 100%|██████████| 70/70 [00:10<00:00,  6.97it/s]"
     ]
    },
    {
     "name": "stdout",
     "output_type": "stream",
     "text": [
      "014493 -- len = 801, now min_length = 613\n",
      "000254 -- len = 1224, now min_length = 613\n",
      "\u001b[1;38;2;151;200;129m|2025-06-30 16:26:16| \u001b[0m\u001b[1mTrain_length : 407 Valid_length : 39 Test_length : 101\u001b[0m\n"
     ]
    },
    {
     "name": "stderr",
     "output_type": "stream",
     "text": [
      "\n"
     ]
    }
   ],
   "source": [
    "from data_provider.data_loader import DataModule\n",
    "from exp.exp_model import Model\n",
    "from utils.exp_logger import Logger\n",
    "from utils.exp_metrics_plotter import MetricsPlotter\n",
    "from run_train import get_experiment_name\n",
    "from utils.utils import set_settings\n",
    "# Experiment Settings, logger, plotter\n",
    "from utils.exp_config import get_config\n",
    "config = get_config('FinancialConfig')\n",
    "config.multi_dataset = True\n",
    "set_settings(config)\n",
    "log_filename, exper_detail = get_experiment_name(config)\n",
    "plotter = MetricsPlotter(log_filename, config)\n",
    "log = Logger(log_filename, exper_detail, plotter, config)\n",
    "datamodule = DataModule(config)\n",
    "model = Model(config)"
   ]
  },
  {
   "cell_type": "code",
   "execution_count": null,
   "id": "83d067d4d4b3419b",
   "metadata": {
    "ExecuteTime": {
     "end_time": "2025-05-14T07:39:54.525191Z",
     "start_time": "2025-05-14T07:39:54.497395Z"
    }
   },
   "outputs": [],
   "source": [
    "import torch\n",
    "import torch.nn as nn\n",
    "\n",
    "# 假设输入\n",
    "bs, seq_len, channels, dim = 16, 48, 33, 64\n",
    "x_enc = torch.randn(bs, seq_len, channels, dim)\n",
    "\n",
    "# 定义 attention 层（无 batch_first 参数）\n",
    "attn_channel = nn.MultiheadAttention(embed_dim=dim, num_heads=8)  # expects (seq_len, batch, dim)\n",
    "attn_time = nn.MultiheadAttention(embed_dim=dim, num_heads=8)\n",
    "\n",
    "# ===== 1. 跨通道 attention =====\n",
    "# 原始 x_enc: (bs, 48, 33, 64)\n",
    "# 调整为 (33, bs*48, 64)\n",
    "x_enc_reshaped = x_enc.permute(2, 0, 1, 3).reshape(channels, bs * seq_len, dim)\n",
    "\n",
    "# 注意力：通道之间的 self-attention\n",
    "x_channel_attn, _ = attn_channel(x_enc_reshaped, x_enc_reshaped, x_enc_reshaped)  # (33, bs*48, 64)\n",
    "\n",
    "# 还原为 (bs, 48, 33, 64)\n",
    "x_channel_attn = x_channel_attn.reshape(channels, bs, seq_len, dim).permute(1, 2, 0, 3)\n",
    "\n",
    "# ===== 2. 跨时间 attention =====\n",
    "# 调整为 (48, bs*33, 64)\n",
    "x_time_input = x_channel_attn.permute(1, 0, 2, 3).reshape(seq_len, bs * channels, dim)\n",
    "\n",
    "# 注意力：时间步之间的 self-attention\n",
    "x_time_attn, _ = attn_time(x_time_input, x_time_input, x_time_input)  # (48, bs*33, 64)\n",
    "\n",
    "# 还原为 (bs, 48, 33, 64)\n",
    "x_time_attn = x_time_attn.reshape(seq_len, bs, channels, dim).permute(1, 0, 2, 3)\n",
    "\n",
    "# 最终输出\n",
    "print(x_time_attn.shape)  # torch.Size([16, 48, 33, 64])\n"
   ]
  },
  {
   "cell_type": "code",
   "execution_count": 26,
   "id": "34b77a8a50c3e4d3",
   "metadata": {
    "ExecuteTime": {
     "end_time": "2025-05-15T08:54:42.394091Z",
     "start_time": "2025-05-15T08:54:42.206443Z"
    }
   },
   "outputs": [],
   "source": [
    "from modules.backbone import Backbone\n",
    "from run_train import *\n",
    "\n",
    "from utils.exp_config import get_config\n",
    "config = get_config()\n",
    "# datamodule = DataModule(config)\n",
    "# model = Model(datamodule, config)\n",
    "model = Backbone(3, config)"
   ]
  },
  {
   "cell_type": "code",
   "execution_count": 27,
   "id": "e0cc9844e24299a6",
   "metadata": {
    "ExecuteTime": {
     "end_time": "2025-05-15T08:54:44.753971Z",
     "start_time": "2025-05-15T08:54:44.746305Z"
    }
   },
   "outputs": [],
   "source": [
    "bs, seq_len, channels, dim = 1, 48, 33, 3\n",
    "random_inputs = torch.rand(bs, seq_len, channels, dim)\n",
    "y = model(random_inputs, None, None)\n",
    "# [1, 48, 32, 3]"
   ]
  },
  {
   "cell_type": "code",
   "execution_count": 28,
   "id": "a1df9f4965779f7c",
   "metadata": {
    "ExecuteTime": {
     "end_time": "2025-05-15T08:55:06.532773Z",
     "start_time": "2025-05-15T08:55:06.526640Z"
    }
   },
   "outputs": [],
   "source": [
    "bs, seq_len, channels, dim = 1, 48, 1, 3\n",
    "random_inputs = torch.rand(bs, seq_len, channels, dim)\n",
    "y = model(random_inputs, None, None)\n",
    "# [1, 48, 32, 3]"
   ]
  },
  {
   "cell_type": "code",
   "execution_count": 17,
   "id": "ddb1fd89c0e320dc",
   "metadata": {
    "ExecuteTime": {
     "end_time": "2025-05-15T07:27:41.716108Z",
     "start_time": "2025-05-15T07:27:41.708539Z"
    }
   },
   "outputs": [],
   "source": [
    "bs, seq_len, channels, dim = 1, 48, 16, 3\n",
    "random_inputs = torch.rand(bs, seq_len, channels, dim)\n",
    "y = model(random_inputs, None, None)\n",
    "# [1, 48, 32, 3]"
   ]
  },
  {
   "cell_type": "code",
   "execution_count": 1,
   "id": "17d341a7",
   "metadata": {},
   "outputs": [
    {
     "name": "stdout",
     "output_type": "stream",
     "text": [
      "torch.Size([2, 3, 4, 4, 4])\n"
     ]
    }
   ],
   "source": [
    "import torch\n",
    "\n",
    "x = torch.arange(2*3*4*10).reshape(2, 3, 4, 10)\n",
    "patch_len = 4\n",
    "stride = 2\n",
    "\n",
    "x_unfolded = x.unfold(dimension=-1, size=patch_len, step=stride)\n",
    "print(x_unfolded.shape)"
   ]
  },
  {
   "cell_type": "code",
   "execution_count": 23,
   "id": "7057217c",
   "metadata": {},
   "outputs": [
    {
     "name": "stdout",
     "output_type": "stream",
     "text": [
      "缺失的编号： [47, 71, 73, 75, 147]\n"
     ]
    }
   ],
   "source": [
    "import os\n",
    "\n",
    "# 读取所有文件名\n",
    "all_files = os.listdir('results/financial/20250701/log')\n",
    "\n",
    "# 提取每个文件中 _Multi_ 与 .md 之间的数字\n",
    "existing_ids = set()\n",
    "for filename in all_files:\n",
    "    try:\n",
    "        num = int(filename.split('_Multi_')[1].split('.md')[0])\n",
    "        existing_ids.add(num)\n",
    "    except (IndexError, ValueError):\n",
    "        continue\n",
    "\n",
    "# 检查 1-130 中缺失的编号\n",
    "missing_ids = [i for i in range(0, 150) if i not in existing_ids]\n",
    "\n",
    "print(\"缺失的编号：\", missing_ids)"
   ]
  },
  {
   "cell_type": "code",
   "execution_count": 9,
   "id": "0270da75",
   "metadata": {},
   "outputs": [
    {
     "name": "stdout",
     "output_type": "stream",
     "text": [
      "组号 0 中有 216 个基金\n",
      "组号 1 中有 270 个基金\n",
      "组号 2 中有 34 个基金\n",
      "组号 3 中有 22 个基金\n",
      "组号 4 中有 163 个基金\n",
      "组号 5 中有 62 个基金\n",
      "组号 6 中有 14 个基金\n",
      "组号 7 中有 13 个基金\n",
      "组号 8 中有 19 个基金\n",
      "组号 9 中有 12 个基金\n",
      "组号 10 中有 74 个基金\n",
      "组号 11 中有 172 个基金\n",
      "组号 12 中有 60 个基金\n",
      "组号 13 中有 183 个基金\n",
      "组号 14 中有 34 个基金\n",
      "组号 15 中有 106 个基金\n",
      "组号 16 中有 24 个基金\n",
      "组号 17 中有 126 个基金\n",
      "组号 18 中有 12 个基金\n",
      "组号 19 中有 28 个基金\n",
      "组号 20 中有 92 个基金\n",
      "组号 21 中有 28 个基金\n",
      "组号 22 中有 115 个基金\n",
      "组号 23 中有 16 个基金\n",
      "组号 24 中有 186 个基金\n",
      "组号 25 中有 153 个基金\n",
      "组号 26 中有 367 个基金\n",
      "组号 27 中有 23 个基金\n",
      "组号 28 中有 30 个基金\n",
      "组号 29 中有 33 个基金\n",
      "组号 30 中有 14 个基金\n",
      "组号 31 中有 39 个基金\n",
      "组号 32 中有 101 个基金\n",
      "组号 33 中有 65 个基金\n",
      "组号 34 中有 66 个基金\n",
      "组号 35 中有 282 个基金\n",
      "组号 36 中有 17 个基金\n",
      "组号 37 中有 42 个基金\n",
      "组号 38 中有 170 个基金\n",
      "组号 39 中有 70 个基金\n",
      "组号 40 中有 23 个基金\n",
      "组号 41 中有 37 个基金\n",
      "组号 42 中有 34 个基金\n",
      "组号 43 中有 126 个基金\n",
      "组号 44 中有 26 个基金\n",
      "组号 45 中有 36 个基金\n",
      "组号 46 中有 111 个基金\n",
      "组号 47 中有 156 个基金\n",
      "组号 48 中有 3 个基金\n",
      "组号 49 中有 15 个基金\n",
      "组号 50 中有 22 个基金\n",
      "组号 51 中有 10 个基金\n",
      "组号 52 中有 314 个基金\n",
      "组号 53 中有 133 个基金\n",
      "组号 54 中有 11 个基金\n",
      "组号 55 中有 230 个基金\n",
      "组号 56 中有 56 个基金\n",
      "组号 57 中有 120 个基金\n",
      "组号 58 中有 218 个基金\n",
      "组号 59 中有 65 个基金\n",
      "组号 60 中有 243 个基金\n",
      "组号 61 中有 57 个基金\n",
      "组号 62 中有 220 个基金\n",
      "组号 63 中有 184 个基金\n",
      "组号 64 中有 320 个基金\n",
      "组号 65 中有 6 个基金\n",
      "组号 66 中有 18 个基金\n",
      "组号 67 中有 26 个基金\n",
      "组号 68 中有 17 个基金\n",
      "组号 69 中有 16 个基金\n",
      "组号 70 中有 49 个基金\n",
      "组号 71 中有 17 个基金\n",
      "组号 72 中有 42 个基金\n",
      "组号 73 中有 32 个基金\n",
      "组号 74 中有 11 个基金\n",
      "组号 75 中有 185 个基金\n",
      "组号 76 中有 16 个基金\n",
      "组号 77 中有 74 个基金\n",
      "组号 78 中有 294 个基金\n",
      "组号 79 中有 21 个基金\n",
      "组号 80 中有 8 个基金\n",
      "组号 81 中有 79 个基金\n",
      "组号 82 中有 169 个基金\n",
      "组号 83 中有 79 个基金\n",
      "组号 84 中有 12 个基金\n",
      "组号 85 中有 111 个基金\n",
      "组号 86 中有 30 个基金\n",
      "组号 87 中有 27 个基金\n",
      "组号 88 中有 43 个基金\n",
      "组号 89 中有 24 个基金\n",
      "组号 90 中有 110 个基金\n",
      "组号 91 中有 19 个基金\n",
      "组号 92 中有 33 个基金\n",
      "组号 93 中有 138 个基金\n",
      "组号 94 中有 224 个基金\n",
      "组号 95 中有 67 个基金\n",
      "组号 96 中有 76 个基金\n",
      "组号 97 中有 171 个基金\n",
      "组号 98 中有 182 个基金\n",
      "组号 99 中有 123 个基金\n",
      "组号 100 中有 66 个基金\n",
      "组号 101 中有 30 个基金\n",
      "组号 102 中有 25 个基金\n",
      "组号 103 中有 74 个基金\n",
      "组号 104 中有 30 个基金\n",
      "组号 105 中有 17 个基金\n",
      "组号 106 中有 14 个基金\n",
      "组号 107 中有 60 个基金\n",
      "组号 108 中有 38 个基金\n",
      "组号 109 中有 25 个基金\n",
      "组号 110 中有 110 个基金\n",
      "组号 111 中有 29 个基金\n",
      "组号 112 中有 11 个基金\n",
      "组号 113 中有 3 个基金\n",
      "组号 114 中有 21 个基金\n",
      "组号 115 中有 114 个基金\n",
      "组号 116 中有 107 个基金\n",
      "组号 117 中有 46 个基金\n",
      "组号 118 中有 37 个基金\n",
      "组号 119 中有 24 个基金\n",
      "组号 120 中有 95 个基金\n",
      "组号 121 中有 99 个基金\n",
      "组号 122 中有 32 个基金\n",
      "组号 123 中有 23 个基金\n",
      "组号 124 中有 88 个基金\n",
      "组号 125 中有 37 个基金\n",
      "组号 126 中有 5 个基金\n",
      "组号 127 中有 60 个基金\n",
      "组号 128 中有 6 个基金\n",
      "组号 129 中有 17 个基金\n",
      "组号 130 中有 166 个基金\n",
      "组号 131 中有 40 个基金\n",
      "组号 132 中有 24 个基金\n",
      "组号 133 中有 39 个基金\n",
      "组号 134 中有 41 个基金\n",
      "组号 135 中有 343 个基金\n",
      "组号 136 中有 10 个基金\n",
      "组号 137 中有 67 个基金\n",
      "组号 138 中有 120 个基金\n",
      "组号 139 中有 89 个基金\n",
      "组号 140 中有 9 个基金\n",
      "组号 141 中有 93 个基金\n",
      "组号 142 中有 33 个基金\n",
      "组号 143 中有 63 个基金\n",
      "组号 144 中有 43 个基金\n",
      "组号 145 中有 10 个基金\n",
      "组号 146 中有 203 个基金\n",
      "组号 147 中有 38 个基金\n",
      "组号 148 中有 15 个基金\n",
      "组号 149 中有 13 个基金\n"
     ]
    }
   ],
   "source": [
    "import pickle \n",
    "from collections import Counter\n",
    "data = pickle.load(open('./datasets/func_code_to_label_150.pkl', 'rb'))\n",
    "# 提取组号列\n",
    "group_ids = data[:, 1]\n",
    "\n",
    "# 统计每个组号的基金数量\n",
    "counts = Counter(group_ids)\n",
    "\n",
    "# 打印结果\n",
    "for group_id, count in sorted(counts.items()):\n",
    "    print(f\"组号 {group_id} 中有 {count} 个基金\")"
   ]
  },
  {
   "cell_type": "code",
   "execution_count": 4,
   "id": "4fa2853e",
   "metadata": {},
   "outputs": [],
   "source": [
    "import os \n",
    "import pickle\n",
    "all_code = os.listdir('./datasets/financial/S20200713_E20250628')\n",
    "all_code_len = []\n",
    "for code in all_code:\n",
    "    if code.endswith('.pkl'):\n",
    "        with open(os.path.join('./datasets/financial/S20200713_E20250628', code), 'rb') as f:\n",
    "            data = pickle.load(f)\n",
    "            all_code_len.append(len(data))"
   ]
  },
  {
   "cell_type": "code",
   "execution_count": 5,
   "id": "9385d47a",
   "metadata": {},
   "outputs": [
    {
     "name": "stdout",
     "output_type": "stream",
     "text": [
      "📊 总文件数: 11674\n",
      "📈 最大长度: 2742\n",
      "📉 最小长度: 69\n",
      "📏 平均长度: 1102.28\n",
      "📐 中位数: 1224.0\n",
      "🔹 5%分位数: 776.0\n",
      "🔹 6%分位数: 788.0\n",
      "🔹 10%分位数: 827.0\n",
      "🔹 25%分位数: 959.0\n",
      "🔸 75%分位数: 1224.0\n"
     ]
    }
   ],
   "source": [
    "import numpy as np\n",
    "\n",
    "# 假设你已经有 all_code_len\n",
    "all_code_len = np.array(all_code_len)\n",
    "\n",
    "print(f\"📊 总文件数: {len(all_code_len)}\")\n",
    "print(f\"📈 最大长度: {np.max(all_code_len)}\")\n",
    "print(f\"📉 最小长度: {np.min(all_code_len)}\")\n",
    "print(f\"📏 平均长度: {np.mean(all_code_len):.2f}\")\n",
    "print(f\"📐 中位数: {np.median(all_code_len)}\")\n",
    "print(f\"🔹 5%分位数: {np.percentile(all_code_len, 5)}\")\n",
    "print(f\"🔹 6%分位数: {np.percentile(all_code_len, 6)}\")\n",
    "print(f\"🔹 10%分位数: {np.percentile(all_code_len, 10)}\")\n",
    "print(f\"🔹 25%分位数: {np.percentile(all_code_len, 25)}\")\n",
    "print(f\"🔸 75%分位数: {np.percentile(all_code_len, 75)}\")"
   ]
  },
  {
   "cell_type": "code",
   "execution_count": 15,
   "id": "5cc52bd9",
   "metadata": {},
   "outputs": [],
   "source": [
    "import pandas as pd\n",
    "from sqlalchemy import create_engine, text\n",
    "import pickle\n",
    "# 数据库配置\n",
    "with open('./datasets/sql_token.pkl', 'rb') as f:\n",
    "    DB_URI = pickle.load(f)\n",
    "engine = create_engine(DB_URI)\n",
    "\n",
    "def query_fund_data(fund, start_date, end_date):\n",
    "    \"\"\"查询数据库中某支基金的净值数据\n",
    "        SELECT fund_code, date, nav, accnav, adj_nav\n",
    "    \"\"\"\n",
    "    sql = text(\"\"\"\n",
    "        SELECT fund_code, date, accnav, adj_nav, nav\n",
    "        FROM b_fund_nav_details_new\n",
    "        WHERE fund_code IN :codes\n",
    "          AND date BETWEEN :start AND :end\n",
    "        ORDER BY date\n",
    "    \"\"\")\n",
    "    try:\n",
    "        df = pd.read_sql_query(\n",
    "            sql.bindparams(codes=tuple(fund), start=start_date, end=end_date),\n",
    "            engine\n",
    "        )\n",
    "        fund_dict = {code: df_group.reset_index(drop=True)\n",
    "                     for code, df_group in df.groupby(\"fund_code\")}\n",
    "        return fund_dict\n",
    "    except Exception as e:\n",
    "        print(f\"[{fund}] 数据库查询失败: {str(e)}\")\n",
    "        return pd.DataFrame()\n",
    "    \n",
    "df = query_fund_data(['000001', '000003'], '2020-01-01', '2025-01-01')"
   ]
  },
  {
   "cell_type": "code",
   "execution_count": 20,
   "id": "6ed66ccd",
   "metadata": {},
   "outputs": [
    {
     "data": {
      "text/plain": [
       "((1236, 5), (1235, 5))"
      ]
     },
     "execution_count": 20,
     "metadata": {},
     "output_type": "execute_result"
    }
   ],
   "source": [
    "df['000001'].shape, df['000003'].shape"
   ]
  },
  {
   "cell_type": "code",
   "execution_count": null,
   "id": "f3a5fb8c",
   "metadata": {},
   "outputs": [],
   "source": []
  }
 ],
 "metadata": {
  "kernelspec": {
   "display_name": "base",
   "language": "python",
   "name": "python3"
  },
  "language_info": {
   "codemirror_mode": {
    "name": "ipython",
    "version": 3
   },
   "file_extension": ".py",
   "mimetype": "text/x-python",
   "name": "python",
   "nbconvert_exporter": "python",
   "pygments_lexer": "ipython3",
   "version": "3.12.4"
  }
 },
 "nbformat": 4,
 "nbformat_minor": 5
}
