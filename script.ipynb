{
 "cells": [
  {
   "cell_type": "code",
   "id": "initial_id",
   "metadata": {
    "collapsed": true,
    "ExecuteTime": {
     "end_time": "2025-01-31T12:31:23.275934Z",
     "start_time": "2025-01-31T12:31:23.267655Z"
    }
   },
   "source": [
    "import pandas as pd\n",
    "import numpy as np\n",
    "import sklearn.preprocessing\n",
    "def get_iris():\n",
    "    df = pd.read_csv('./datasets/iris_synthetic_data.csv').to_numpy()\n",
    "    all_x = df[:, :-1]\n",
    "    all_y = df[:, -1]\n",
    "    feature_scaler = sklearn.preprocessing.MinMaxScaler()\n",
    "    label_encoder = sklearn.preprocessing.LabelEncoder()\n",
    "    all_x = feature_scaler.fit_transform(all_x)\n",
    "    all_y = label_encoder.fit_transform(all_y)\n",
    "    return all_x, all_y\n",
    "all_x, all_y = get_iris()"
   ],
   "outputs": [],
   "execution_count": 13
  },
  {
   "metadata": {
    "ExecuteTime": {
     "end_time": "2025-02-10T14:13:21.740030Z",
     "start_time": "2025-02-10T14:13:10.754750Z"
    }
   },
   "cell_type": "code",
   "source": [
    "import numpy as np\n",
    "features = np.random.rand(64, 12, 50)\n",
    "np.sum(features, axis=2)[:, 2]\n",
    "features[:, 1, :]"
   ],
   "id": "c2fe0f552f515f92",
   "outputs": [],
   "execution_count": 1
  },
  {
   "metadata": {},
   "cell_type": "code",
   "outputs": [],
   "execution_count": null,
   "source": "",
   "id": "e567e6a168871086"
  }
 ],
 "metadata": {
  "kernelspec": {
   "display_name": "Python 3",
   "language": "python",
   "name": "python3"
  },
  "language_info": {
   "codemirror_mode": {
    "name": "ipython",
    "version": 2
   },
   "file_extension": ".py",
   "mimetype": "text/x-python",
   "name": "python",
   "nbconvert_exporter": "python",
   "pygments_lexer": "ipython2",
   "version": "2.7.6"
  }
 },
 "nbformat": 4,
 "nbformat_minor": 5
}
